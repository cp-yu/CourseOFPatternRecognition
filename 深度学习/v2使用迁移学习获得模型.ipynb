{
  "nbformat": 4,
  "nbformat_minor": 0,
  "metadata": {
    "colab": {
      "provenance": [],
      "gpuType": "T4"
    },
    "kernelspec": {
      "name": "python3",
      "display_name": "Python 3"
    },
    "language_info": {
      "name": "python"
    },
    "accelerator": "GPU"
  },
  "cells": [
    {
      "cell_type": "code",
      "execution_count": null,
      "metadata": {
        "colab": {
          "base_uri": "https://localhost:8080/"
        },
        "id": "oIUvtpol2pci",
        "outputId": "5ecc75f8-ef3c-4d59-f6d9-897021ac4e5c"
      },
      "outputs": [
        {
          "output_type": "stream",
          "name": "stdout",
          "text": [
            "Mounted at /content/gdrive\n",
            "face.csv\t      faceDataset2\t  model4sexClassfierWithoutValid\n",
            "faceData\t      faceDataWithNumber  rawdata\n",
            "faceData2D\t      faceDR\t\t  vgg_face_dag.pth\n",
            "faceData2DWithNumber  faceDS\n",
            "faceDataset\t      faceLabel.csv\n"
          ]
        }
      ],
      "source": [
        "from google.colab import drive\n",
        "drive.mount(\"/content/gdrive\")\n",
        "!ls \"/content/gdrive/My Drive/data\""
      ]
    },
    {
      "cell_type": "code",
      "source": [
        "import matplotlib.pyplot as plt  # show image\n",
        "import numpy as np\n",
        "import pandas as pd\n",
        "import sys\n",
        "import tensorflow as tf"
      ],
      "metadata": {
        "id": "8zExHIIf6n7V"
      },
      "execution_count": null,
      "outputs": []
    },
    {
      "cell_type": "code",
      "source": [
        "tf.config.list_physical_devices('GPU')"
      ],
      "metadata": {
        "colab": {
          "base_uri": "https://localhost:8080/"
        },
        "id": "2SlZQETstDrE",
        "outputId": "20f1f15c-bd2a-47dc-901c-3dd86c413c99"
      },
      "execution_count": null,
      "outputs": [
        {
          "output_type": "execute_result",
          "data": {
            "text/plain": [
              "[PhysicalDevice(name='/physical_device:GPU:0', device_type='GPU')]"
            ]
          },
          "metadata": {},
          "execution_count": 3
        }
      ]
    },
    {
      "cell_type": "code",
      "source": [
        "dtype = np.uint8\n",
        "shape = (128,128)\n",
        "\n",
        "# file_path /content/gdrive/My Drive/data/rawdata/xxxx\n",
        "pre_img_path=\"/content/gdrive/My Drive/data/rawdata/\"\n",
        "pre_path=\"/content/gdrive/My Drive/data/\"\n",
        "\n",
        "# Read the data from the binary file\n",
        "# data = np.fromfile(file_path, dtype=dtype).reshape(shape)"
      ],
      "metadata": {
        "id": "WwGYi2yb5I-8"
      },
      "execution_count": null,
      "outputs": []
    },
    {
      "cell_type": "code",
      "source": [
        "\n",
        "\n",
        "# def readImage(path):\n",
        "#     with open(path,'rb') as f:\n",
        "#         # print(path)\n",
        "#         data = np.fromfile(f, dtype=np.uint8)\n",
        "#         image_array=np.reshape(data,(128,128))\n",
        "#         return image_array\n",
        "#         # return data\n",
        "    \n",
        "face=pd.read_csv(pre_path+\"faceLabel.csv\")\n",
        "\n",
        "# save part\n",
        "new=True\n",
        "for  i in face[\"number\"]:\n",
        "    # number=1223\n",
        "    if new==True:\n",
        "        path=pre_path+f\"rawdata/{i}\"\n",
        "        new_element = np.fromfile(path, dtype=dtype).reshape(shape)\n",
        "        dataset = tf.data.Dataset.from_tensor_slices([new_element])\n",
        "        new=False\n",
        "    else:\n",
        "        path=pre_path+f\"rawdata/{i}\"\n",
        "        data = np.fromfile(path, dtype=dtype).reshape(shape)\n",
        "        new_element = tf.data.Dataset.from_tensor_slices([data])\n",
        "        dataset = dataset.concatenate(new_element)\n",
        "    # if i>1230:\n",
        "    #     break\n",
        "# print(faceData.shape)\n",
        "# faceData.to_pickle(\"faceData2D\") \n",
        "print(dataset)\n",
        "\n",
        "\n",
        "# print(faceData)\n",
        "\n",
        "# plt.imshow(np.reshape(faceData.iloc[0,1],(128,128)), cmap='cividis', vmin=0, vmax=256)\n",
        "# plt.show()"
      ],
      "metadata": {
        "colab": {
          "base_uri": "https://localhost:8080/"
        },
        "id": "X0IWWLmd6iak",
        "outputId": "1bf46309-c668-4e2c-dbe2-623cecaaaab8"
      },
      "execution_count": null,
      "outputs": [
        {
          "output_type": "stream",
          "name": "stdout",
          "text": [
            "<_ConcatenateDataset element_spec=TensorSpec(shape=(128, 128), dtype=tf.uint8, name=None)>\n"
          ]
        }
      ]
    },
    {
      "cell_type": "code",
      "source": [
        "# tf.data.experimental.save(dataset, pre_path+\"faceDataset\")"
      ],
      "metadata": {
        "id": "0vFLXZ9G1Bxg"
      },
      "execution_count": null,
      "outputs": []
    },
    {
      "cell_type": "code",
      "source": [
        "num_elements = tf.data.experimental.cardinality(dataset).numpy()\n",
        "\n",
        "print(f\"The concatenated dataset has {num_elements} elements.\")"
      ],
      "metadata": {
        "colab": {
          "base_uri": "https://localhost:8080/"
        },
        "id": "-x3lvfT8AVrF",
        "outputId": "1300f9ab-cd42-4905-8148-52455701a7f2"
      },
      "execution_count": null,
      "outputs": [
        {
          "output_type": "stream",
          "name": "stdout",
          "text": [
            "The concatenated dataset has 3993 elements.\n"
          ]
        }
      ]
    },
    {
      "cell_type": "code",
      "source": [
        "def convert_image(image):\n",
        "    image = tf.expand_dims(image, axis=0)\n",
        "    image = tf.expand_dims(image, axis=-1)\n",
        "    return tf.tile(image, [1, 1, 1, 3])\n",
        "dataset_ = dataset.map(convert_image)"
      ],
      "metadata": {
        "id": "kqC9S03zvY0P"
      },
      "execution_count": null,
      "outputs": []
    },
    {
      "cell_type": "code",
      "source": [
        "print(dataset_)"
      ],
      "metadata": {
        "colab": {
          "base_uri": "https://localhost:8080/"
        },
        "id": "m1l84hrIv5GR",
        "outputId": "54453dfe-618c-441d-b03a-cb602ac2a922"
      },
      "execution_count": null,
      "outputs": [
        {
          "output_type": "stream",
          "name": "stdout",
          "text": [
            "<_MapDataset element_spec=TensorSpec(shape=(1, 128, 128, 3), dtype=tf.uint8, name=None)>\n"
          ]
        }
      ]
    },
    {
      "cell_type": "code",
      "source": [
        "# def add_batch_dimension(image):\n",
        "#     return tf.expand_dims(image, axis=0)\n",
        "# dataset_ = dataset_.map(convert_image)"
      ],
      "metadata": {
        "id": "20ClJ74Mw1ZM"
      },
      "execution_count": null,
      "outputs": []
    },
    {
      "cell_type": "code",
      "source": [
        "# convert dataframe to tensor\n",
        "label_tensor=tf.convert_to_tensor(face[\"sex_label\"].values)"
      ],
      "metadata": {
        "id": "yJEdPIvNlIpA"
      },
      "execution_count": null,
      "outputs": []
    },
    {
      "cell_type": "code",
      "source": [
        "label_tensor_=tf.data.Dataset.from_tensor_slices(label_tensor)"
      ],
      "metadata": {
        "id": "VFnOyym3ozYI"
      },
      "execution_count": null,
      "outputs": []
    },
    {
      "cell_type": "code",
      "source": [
        "label_tensor_=tf.reshape(label_tensor,(num_elements,1))\n",
        "label_tensor_=tf.data.Dataset.from_tensor_slices(label_tensor_)"
      ],
      "metadata": {
        "id": "COyn4kRaGt1e"
      },
      "execution_count": null,
      "outputs": []
    },
    {
      "cell_type": "code",
      "source": [
        "print(label_tensor_)\n",
        "# print(dataset)"
      ],
      "metadata": {
        "colab": {
          "base_uri": "https://localhost:8080/"
        },
        "id": "szbUiH0GoqBt",
        "outputId": "6dcf0f69-e130-4740-ff41-fadef8397d7b"
      },
      "execution_count": null,
      "outputs": [
        {
          "output_type": "stream",
          "name": "stdout",
          "text": [
            "<_TensorSliceDataset element_spec=TensorSpec(shape=(1,), dtype=tf.int64, name=None)>\n"
          ]
        }
      ]
    },
    {
      "cell_type": "code",
      "source": [
        "# merge label and data\n",
        "data_=tf.data.Dataset.zip((dataset_,label_tensor_))\n",
        "# data_=tf.stack([dataset,label_tensor_.take(8)])"
      ],
      "metadata": {
        "id": "aYUVKXT1lLKP"
      },
      "execution_count": null,
      "outputs": []
    },
    {
      "cell_type": "code",
      "source": [
        "# tf.data.experimental.save(data_, pre_path+\"face_Dataset\")"
      ],
      "metadata": {
        "id": "-IBL_hHr1nKD"
      },
      "execution_count": null,
      "outputs": []
    },
    {
      "cell_type": "code",
      "source": [
        "print(data_)"
      ],
      "metadata": {
        "colab": {
          "base_uri": "https://localhost:8080/"
        },
        "id": "pLzxWs34qzAq",
        "outputId": "b9179d97-d87b-439f-878f-2925bc998c8f"
      },
      "execution_count": null,
      "outputs": [
        {
          "output_type": "stream",
          "name": "stdout",
          "text": [
            "<_ZipDataset element_spec=(TensorSpec(shape=(1, 128, 128, 3), dtype=tf.uint8, name=None), TensorSpec(shape=(1,), dtype=tf.int64, name=None))>\n"
          ]
        }
      ]
    },
    {
      "cell_type": "code",
      "source": [
        "# split train and test sets\n",
        "# 计算训练集大小（例如，80% 的数据用于训练）\n",
        "train_size = int(num_elements * 0.8)\n",
        "\n",
        "# 使用 take 方法获取训练集\n",
        "ds_train_ = data_.take(train_size)\n",
        "\n",
        "# 使用 skip 方法获取测试集\n",
        "ds_valid_ = data_.skip(train_size)"
      ],
      "metadata": {
        "id": "PD8y7OORl_HZ"
      },
      "execution_count": null,
      "outputs": []
    },
    {
      "cell_type": "code",
      "source": [
        "print(ds_valid_)"
      ],
      "metadata": {
        "colab": {
          "base_uri": "https://localhost:8080/"
        },
        "id": "ckq5Gp_6jQL-",
        "outputId": "4f840759-03cc-4301-d99e-fe2c629cf08a"
      },
      "execution_count": null,
      "outputs": [
        {
          "output_type": "stream",
          "name": "stdout",
          "text": [
            "<_SkipDataset element_spec=(TensorSpec(shape=(1, 128, 128, 3), dtype=tf.uint8, name=None), TensorSpec(shape=(1,), dtype=tf.int64, name=None))>\n"
          ]
        }
      ]
    },
    {
      "cell_type": "code",
      "source": [
        "# Data Pipeline\n",
        "def convert_to_float(image,label ):\n",
        "    image = tf.image.convert_image_dtype(image, dtype=tf.float32)\n",
        "    return image, label\n",
        "\n",
        "AUTOTUNE = tf.data.experimental.AUTOTUNE\n",
        "ds_train = (\n",
        "    ds_train_\n",
        "    .map(convert_to_float)\n",
        "    .cache()\n",
        "    .prefetch(buffer_size=AUTOTUNE)\n",
        ")\n",
        "ds_valid = (\n",
        "    ds_valid_\n",
        "    .map(convert_to_float)\n",
        "    .cache()\n",
        "    .prefetch(buffer_size=AUTOTUNE)\n",
        ")"
      ],
      "metadata": {
        "id": "wtjNfIRobda1"
      },
      "execution_count": null,
      "outputs": []
    },
    {
      "cell_type": "code",
      "source": [
        "ds_train"
      ],
      "metadata": {
        "id": "CkGSS-JydGwX",
        "colab": {
          "base_uri": "https://localhost:8080/"
        },
        "outputId": "cc49de67-8df2-4114-a60d-852f0e8f01a4"
      },
      "execution_count": null,
      "outputs": [
        {
          "output_type": "execute_result",
          "data": {
            "text/plain": [
              "<_PrefetchDataset element_spec=(TensorSpec(shape=(1, 128, 128, 3), dtype=tf.float32, name=None), TensorSpec(shape=(1,), dtype=tf.int64, name=None))>"
            ]
          },
          "metadata": {},
          "execution_count": 19
        }
      ]
    },
    {
      "cell_type": "code",
      "source": [
        "# ds_valid\n",
        "num_elements1 = tf.data.experimental.cardinality(ds_train_).numpy()\n",
        "\n",
        "print(f\"The concatenated ds_train has {num_elements1} elements.\")"
      ],
      "metadata": {
        "colab": {
          "base_uri": "https://localhost:8080/"
        },
        "id": "xbrG2NMvcgzp",
        "outputId": "618a3a94-afbf-4864-facd-0cf5f5a86558"
      },
      "execution_count": null,
      "outputs": [
        {
          "output_type": "stream",
          "name": "stdout",
          "text": [
            "The concatenated ds_train has 3194 elements.\n"
          ]
        }
      ]
    },
    {
      "cell_type": "markdown",
      "source": [
        "The **InceptionV1** model pretrained on ImageNet is available in the [TensorFlow Hub](https://www.tensorflow.org/hub/) repository, but we'll load it from a local copy. Run this cell to load InceptionV1 for your base."
      ],
      "metadata": {
        "id": "Miq5jZLC5Nw2"
      }
    },
    {
      "cell_type": "code",
      "source": [
        "# !pip install mmdnn"
      ],
      "metadata": {
        "id": "iIbD-yQsQwiq"
      },
      "execution_count": null,
      "outputs": []
    },
    {
      "cell_type": "code",
      "source": [
        "# !mmconvert -sf pytorch -in http://www.robots.ox.ac.uk/~albanie/models/pytorch-mcn/vgg_face_dag.pth -df tensorflow -om /content/gdrive/data/vgg_face.pb   "
      ],
      "metadata": {
        "id": "fd0haOq-Q0du"
      },
      "execution_count": null,
      "outputs": []
    },
    {
      "cell_type": "code",
      "source": [
        "import tensorflow_hub as hub\n",
        "\n",
        "# pretrained_base = tf.keras.models.load_model(\n",
        "#     '/content/gdrive/My Drive/data/vgg_face.pb'\n",
        "# )\n",
        "# pretrained_base = hub.KerasLayer(\"https://tfhub.dev/google/imagenet/inception_resnet_v2/classification/5\")\n",
        "pretrained_base = hub.KerasLayer(\"https://tfhub.dev/google/imagenet/inception_v1/classification/5\")"
      ],
      "metadata": {
        "lines_to_next_cell": 0,
        "execution": {
          "iopub.status.busy": "2023-05-16T12:53:35.931707Z",
          "iopub.execute_input": "2023-05-16T12:53:35.932259Z",
          "iopub.status.idle": "2023-05-16T12:53:42.358947Z",
          "shell.execute_reply.started": "2023-05-16T12:53:35.932218Z",
          "shell.execute_reply": "2023-05-16T12:53:42.357860Z"
        },
        "trusted": true,
        "id": "ZI7399pz5Nw2"
      },
      "execution_count": null,
      "outputs": []
    },
    {
      "cell_type": "markdown",
      "source": [
        "# 1) Define Pretrained Base #\n",
        "\n",
        "Now that you have a pretrained base to do our feature extraction, decide whether this base should be trainable or not."
      ],
      "metadata": {
        "id": "_jethAkc5Nw2"
      }
    },
    {
      "cell_type": "code",
      "source": [
        "# YOUR_CODE_HERE\n",
        "pretrained_base.trainable = False\n",
        "\n"
      ],
      "metadata": {
        "lines_to_next_cell": 0,
        "execution": {
          "iopub.status.busy": "2023-05-16T12:55:03.339427Z",
          "iopub.execute_input": "2023-05-16T12:55:03.339917Z",
          "iopub.status.idle": "2023-05-16T12:55:03.352259Z",
          "shell.execute_reply.started": "2023-05-16T12:55:03.339861Z",
          "shell.execute_reply": "2023-05-16T12:55:03.351273Z"
        },
        "trusted": true,
        "id": "LiuMptJt5Nw2"
      },
      "execution_count": null,
      "outputs": []
    },
    {
      "cell_type": "code",
      "source": [
        "# Lines below will give you a hint or solution code\n",
        "#q_1.hint()\n",
        "#q_1.solution()"
      ],
      "metadata": {
        "id": "BkBobfT45Nw3"
      },
      "execution_count": null,
      "outputs": []
    },
    {
      "cell_type": "markdown",
      "source": [
        "# 2) Attach Head #\n",
        "\n",
        "Now that the base is defined to do the feature extraction, create a head of `Dense` layers to perform the classification, following this diagram:\n",
        "\n",
        "<figure>\n",
        "<img src=\"https://storage.googleapis.com/kaggle-media/learn/images/i5VU7Ry.png\" alt=\"Diagram of the dense head.\">\n",
        "</figure>\n"
      ],
      "metadata": {
        "id": "Ui8Rj79F5Nw3"
      }
    },
    {
      "cell_type": "code",
      "source": [
        "from tensorflow import keras\n",
        "from tensorflow.keras import layers\n",
        "\n",
        "model = keras.Sequential([\n",
        "    pretrained_base,\n",
        "    layers.Flatten(),\n",
        "    # YOUR CODE HERE. Attach a head of dense layers.\n",
        "    layers.Dense(6, activation='relu'),\n",
        "    layers.Dense(1, activation='sigmoid'),\n",
        "])\n"
      ],
      "metadata": {
        "lines_to_next_cell": 0,
        "execution": {
          "iopub.status.busy": "2023-05-16T12:57:37.306235Z",
          "iopub.execute_input": "2023-05-16T12:57:37.306604Z",
          "iopub.status.idle": "2023-05-16T12:57:37.332197Z",
          "shell.execute_reply.started": "2023-05-16T12:57:37.306574Z",
          "shell.execute_reply": "2023-05-16T12:57:37.331264Z"
        },
        "trusted": true,
        "id": "8muuR-yz5Nw3"
      },
      "execution_count": null,
      "outputs": []
    },
    {
      "cell_type": "markdown",
      "source": [
        "# 3) Train #\n",
        "\n",
        "Before training a model in Keras, you need to specify an *optimizer* to perform the gradient descent, a *loss function* to be minimized, and (optionally) any *performance metrics*. The optimization algorithm we'll use for this course is called [\"Adam\"](https://keras.io/api/optimizers/adam/), which generally performs well regardless of what kind of problem you're trying to solve.\n",
        "\n",
        "The loss and the metrics, however, need to match the kind of problem you're trying to solve. Our problem is a **binary classification** problem: `Car` coded as 0, and `Truck` coded as 1. Choose an appropriate loss and an appropriate accuracy metric for binary classification."
      ],
      "metadata": {
        "id": "8HGG7m-d5Nw4"
      }
    },
    {
      "cell_type": "code",
      "source": [
        "# YOUR CODE HERE: what loss function should you use for a binary\n",
        "# classification problem? (Your answer for each should be a string.)\n",
        "optimizer = tf.keras.optimizers.Adam(epsilon=0.01)\n",
        "model.compile(\n",
        "    optimizer=optimizer,\n",
        "    loss='binary_crossentropy',\n",
        "    metrics=['binary_accuracy'],\n",
        ")\n",
        "\n"
      ],
      "metadata": {
        "lines_to_next_cell": 0,
        "execution": {
          "iopub.status.busy": "2023-05-16T12:58:57.504722Z",
          "iopub.execute_input": "2023-05-16T12:58:57.505119Z",
          "iopub.status.idle": "2023-05-16T12:58:57.537948Z",
          "shell.execute_reply.started": "2023-05-16T12:58:57.505065Z",
          "shell.execute_reply": "2023-05-16T12:58:57.536937Z"
        },
        "trusted": true,
        "id": "7e_nGQBc5Nw4"
      },
      "execution_count": null,
      "outputs": []
    },
    {
      "cell_type": "code",
      "source": [
        "from tensorflow.keras.callbacks import ModelCheckpoint,EarlyStopping\n",
        "checkpoint = ModelCheckpoint('model-{epoch:02d}.h5', save_weights_only=True)\n",
        "early_stopping = EarlyStopping(monitor='val_loss', patience=10)"
      ],
      "metadata": {
        "id": "JiylYAKuh4gy"
      },
      "execution_count": null,
      "outputs": []
    },
    {
      "cell_type": "code",
      "source": [
        "history = model.fit(\n",
        "    ds_train,\n",
        "    validation_data=ds_valid,\n",
        "    epochs=30,\n",
        "    callbacks=[checkpoint,early_stopping]\n",
        ")"
      ],
      "metadata": {
        "execution": {
          "iopub.status.busy": "2023-05-16T12:59:00.842917Z",
          "iopub.execute_input": "2023-05-16T12:59:00.843631Z",
          "iopub.status.idle": "2023-05-16T13:01:58.432963Z",
          "shell.execute_reply.started": "2023-05-16T12:59:00.843595Z",
          "shell.execute_reply": "2023-05-16T13:01:58.431540Z"
        },
        "trusted": true,
        "colab": {
          "base_uri": "https://localhost:8080/"
        },
        "id": "PqZ2KI6A5Nw4",
        "outputId": "2f4c844c-e419-4585-fcbc-f33fd02bf564"
      },
      "execution_count": null,
      "outputs": [
        {
          "output_type": "stream",
          "name": "stdout",
          "text": [
            "Epoch 1/30\n",
            "3194/3194 [==============================] - 55s 13ms/step - loss: 0.6052 - binary_accuracy: 0.6437 - val_loss: 0.6452 - val_binary_accuracy: 0.4343\n",
            "Epoch 2/30\n",
            "3194/3194 [==============================] - 29s 9ms/step - loss: 0.6306 - binary_accuracy: 0.5398 - val_loss: 0.6356 - val_binary_accuracy: 0.4143\n",
            "Epoch 3/30\n",
            "3194/3194 [==============================] - 28s 9ms/step - loss: 0.5705 - binary_accuracy: 0.6800 - val_loss: 0.5246 - val_binary_accuracy: 0.7234\n",
            "Epoch 4/30\n",
            "3194/3194 [==============================] - 28s 9ms/step - loss: 0.4063 - binary_accuracy: 0.8507 - val_loss: 0.5000 - val_binary_accuracy: 0.7447\n",
            "Epoch 5/30\n",
            "3194/3194 [==============================] - 28s 9ms/step - loss: 0.3684 - binary_accuracy: 0.8582 - val_loss: 0.4876 - val_binary_accuracy: 0.7610\n",
            "Epoch 6/30\n",
            "3194/3194 [==============================] - 29s 9ms/step - loss: 0.3489 - binary_accuracy: 0.8635 - val_loss: 0.4824 - val_binary_accuracy: 0.7722\n",
            "Epoch 7/30\n",
            "3194/3194 [==============================] - 35s 11ms/step - loss: 0.3433 - binary_accuracy: 0.8694 - val_loss: 0.4890 - val_binary_accuracy: 0.7822\n",
            "Epoch 8/30\n",
            "3194/3194 [==============================] - 30s 9ms/step - loss: 0.3274 - binary_accuracy: 0.8757 - val_loss: 0.4785 - val_binary_accuracy: 0.7897\n",
            "Epoch 9/30\n",
            "3194/3194 [==============================] - 33s 10ms/step - loss: 0.3182 - binary_accuracy: 0.8710 - val_loss: 0.4763 - val_binary_accuracy: 0.7922\n",
            "Epoch 10/30\n",
            "3194/3194 [==============================] - 32s 10ms/step - loss: 0.3158 - binary_accuracy: 0.8788 - val_loss: 0.4731 - val_binary_accuracy: 0.7997\n",
            "Epoch 11/30\n",
            "3194/3194 [==============================] - 31s 10ms/step - loss: 0.3103 - binary_accuracy: 0.8817 - val_loss: 0.4746 - val_binary_accuracy: 0.8035\n",
            "Epoch 12/30\n",
            "3194/3194 [==============================] - 31s 10ms/step - loss: 0.3021 - binary_accuracy: 0.8829 - val_loss: 0.4787 - val_binary_accuracy: 0.7985\n",
            "Epoch 13/30\n",
            "3194/3194 [==============================] - 29s 9ms/step - loss: 0.2963 - binary_accuracy: 0.8832 - val_loss: 0.4711 - val_binary_accuracy: 0.7960\n",
            "Epoch 14/30\n",
            "3194/3194 [==============================] - 29s 9ms/step - loss: 0.2921 - binary_accuracy: 0.8867 - val_loss: 0.4750 - val_binary_accuracy: 0.8010\n",
            "Epoch 15/30\n",
            "3194/3194 [==============================] - 30s 9ms/step - loss: 0.2891 - binary_accuracy: 0.8879 - val_loss: 0.4791 - val_binary_accuracy: 0.7947\n",
            "Epoch 16/30\n",
            "3194/3194 [==============================] - 31s 10ms/step - loss: 0.2890 - binary_accuracy: 0.8901 - val_loss: 0.4861 - val_binary_accuracy: 0.7935\n",
            "Epoch 17/30\n",
            "3194/3194 [==============================] - 30s 9ms/step - loss: 0.2866 - binary_accuracy: 0.8923 - val_loss: 0.4889 - val_binary_accuracy: 0.7935\n",
            "Epoch 18/30\n",
            "3194/3194 [==============================] - 30s 9ms/step - loss: 0.2840 - binary_accuracy: 0.8917 - val_loss: 0.4895 - val_binary_accuracy: 0.7897\n",
            "Epoch 19/30\n",
            "3194/3194 [==============================] - 29s 9ms/step - loss: 0.2846 - binary_accuracy: 0.8923 - val_loss: 0.4916 - val_binary_accuracy: 0.7910\n",
            "Epoch 20/30\n",
            "3194/3194 [==============================] - 29s 9ms/step - loss: 0.2829 - binary_accuracy: 0.8917 - val_loss: 0.4898 - val_binary_accuracy: 0.7922\n",
            "Epoch 21/30\n",
            "3194/3194 [==============================] - 28s 9ms/step - loss: 0.2812 - binary_accuracy: 0.8907 - val_loss: 0.4896 - val_binary_accuracy: 0.7947\n",
            "Epoch 22/30\n",
            "3194/3194 [==============================] - 28s 9ms/step - loss: 0.2809 - binary_accuracy: 0.8914 - val_loss: 0.4921 - val_binary_accuracy: 0.7935\n",
            "Epoch 23/30\n",
            "3194/3194 [==============================] - 28s 9ms/step - loss: 0.2786 - binary_accuracy: 0.8917 - val_loss: 0.4900 - val_binary_accuracy: 0.7935\n"
          ]
        }
      ]
    },
    {
      "cell_type": "markdown",
      "source": [
        "Run the cell below to plot the loss and metric curves for this training run."
      ],
      "metadata": {
        "id": "2eGtsDuy5Nw4"
      }
    },
    {
      "cell_type": "code",
      "source": [
        "import pandas as pd\n",
        "history_frame = pd.DataFrame(history.history)\n",
        "history_frame.loc[:, ['loss', 'val_loss']].plot()\n",
        "history_frame.loc[:, ['binary_accuracy', 'val_binary_accuracy']].plot();"
      ],
      "metadata": {
        "execution": {
          "iopub.status.busy": "2023-05-16T13:02:11.252892Z",
          "iopub.execute_input": "2023-05-16T13:02:11.253292Z",
          "iopub.status.idle": "2023-05-16T13:02:12.179823Z",
          "shell.execute_reply.started": "2023-05-16T13:02:11.253258Z",
          "shell.execute_reply": "2023-05-16T13:02:12.178783Z"
        },
        "trusted": true,
        "id": "0B8D0dj25Nw4",
        "outputId": "bd4678b1-706d-4fd8-fefa-bff3b8ace398",
        "colab": {
          "base_uri": "https://localhost:8080/",
          "height": 843
        }
      },
      "execution_count": null,
      "outputs": [
        {
          "output_type": "display_data",
          "data": {
            "text/plain": [
              "<Figure size 640x480 with 1 Axes>"
            ],
            "image/png": "[encoded data removed]"
          },
          "metadata": {}
        },
        {
          "output_type": "display_data",
          "data": {
            "text/plain": [
              "<Figure size 640x480 with 1 Axes>"
            ],
            "image/png": "[encoded data removed]"
          },
          "metadata": {}
        }
      ]
    },
    {
      "cell_type": "code",
      "source": [
        "# # 定义输入和输出\n",
        "# inputs = {'input_image': model.input}\n",
        "# outputs = {'output_scores': model.output}\n",
        "\n",
        "# 导出模型\n",
        "tf.saved_model.save(model, pre_path+\"model4sexClassfier\")"
      ],
      "metadata": {
        "colab": {
          "base_uri": "https://localhost:8080/"
        },
        "id": "TvYefEfnWjpM",
        "outputId": "986dbba8-d61c-4f81-917f-ddeaee3e8646"
      },
      "execution_count": null,
      "outputs": [
        {
          "output_type": "stream",
          "name": "stderr",
          "text": [
            "WARNING:absl:Found untraced functions such as _update_step_xla while saving (showing 1 of 1). These functions will not be directly callable after loading.\n"
          ]
        }
      ]
    },
    {
      "cell_type": "markdown",
      "source": [
        "`History` 对象本身并不保存模型的权重。它只记录了模型训练过程中的损失值和评估指标。如果您想要保存模型的权重，您可以使用 `ModelCheckpoint` 回调或者在训练结束后手动调用 `save_weights` 方法。\n",
        "\n",
        "例如，下面的代码展示了如何使用 `ModelCheckpoint` 回调来保存模型的权重。\n",
        "\n",
        "```python\n",
        "from tensorflow.keras.callbacks import ModelCheckpoint\n",
        "\n",
        "checkpoint = ModelCheckpoint('weights.h5', save_weights_only=True)\n",
        "history = model.fit(x_train, y_train, epochs=100, validation_data=(x_test, y_test), callbacks=[checkpoint])\n",
        "```\n",
        "\n",
        "在上面的代码中，`ModelCheckpoint` 回调会在每一轮训练后保存模型的权重。您可以通过修改文件名来控制保存文件的命名方式。\n",
        "\n",
        "此外，您还可以在训练结束后手动调用 `save_weights` 方法来保存模型的权重。例如，下面的代码展示了如何在训练结束后保存模型的权重。\n",
        "\n",
        "```python\n",
        "history = model.fit(x_train, y_train, epochs=100, validation_data=(x_test, y_test))\n",
        "model.save_weights('weights.h5')\n",
        "```\n",
        "\n",
        "在上面的代码中，`save_weights` 方法会将模型的权重保存到指定的文件中。您可以在之后使用 `load_weights` 方法来加载保存的权重。"
      ],
      "metadata": {
        "id": "HJq9AB_gopoF"
      }
    }
  ]
}