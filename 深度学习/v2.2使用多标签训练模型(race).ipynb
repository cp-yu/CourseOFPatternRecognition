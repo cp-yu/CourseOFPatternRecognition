{
  "nbformat": 4,
  "nbformat_minor": 0,
  "metadata": {
    "colab": {
      "provenance": [],
      "gpuType": "T4"
    },
    "kernelspec": {
      "name": "python3",
      "display_name": "Python 3"
    },
    "language_info": {
      "name": "python"
    },
    "accelerator": "GPU"
  },
  "cells": [
    {
      "cell_type": "code",
      "execution_count": 60,
      "metadata": {
        "colab": {
          "base_uri": "https://localhost:8080/"
        },
        "id": "oIUvtpol2pci",
        "outputId": "07442e69-bcc4-4c4f-b4da-26700d3a60d0"
      },
      "outputs": [
        {
          "output_type": "stream",
          "name": "stdout",
          "text": [
            "Drive already mounted at /content/gdrive; to attempt to forcibly remount, call drive.mount(\"/content/gdrive\", force_remount=True).\n",
            "face.csv\t      faceDataset2\t      model4multiClassfier\n",
            "faceData\t      faceDataWithNumber      model4sexClassfier\n",
            "faceData2D\t      faceDR\t\t      model4sexClassfierWithoutValid\n",
            "faceData2DWithNumber  faceDS\t\t      rawdata\n",
            "face_Dataset\t      faceLabel.csv\t      vgg_face_dag.pth\n",
            "faceDataset\t      model4emotionClassfier\n"
          ]
        }
      ],
      "source": [
        "from google.colab import drive\n",
        "drive.mount(\"/content/gdrive\")\n",
        "!ls \"/content/gdrive/My Drive/data\""
      ]
    },
    {
      "cell_type": "code",
      "source": [
        "import matplotlib.pyplot as plt  # show image\n",
        "import numpy as np\n",
        "import pandas as pd\n",
        "import sys\n",
        "import tensorflow as tf"
      ],
      "metadata": {
        "id": "8zExHIIf6n7V"
      },
      "execution_count": 61,
      "outputs": []
    },
    {
      "cell_type": "code",
      "source": [
        "tf.config.list_physical_devices('GPU')"
      ],
      "metadata": {
        "colab": {
          "base_uri": "https://localhost:8080/"
        },
        "id": "2SlZQETstDrE",
        "outputId": "124702a2-67a8-4a16-c57f-4cad14e21eeb"
      },
      "execution_count": 62,
      "outputs": [
        {
          "output_type": "execute_result",
          "data": {
            "text/plain": [
              "[PhysicalDevice(name='/physical_device:GPU:0', device_type='GPU')]"
            ]
          },
          "metadata": {},
          "execution_count": 62
        }
      ]
    },
    {
      "cell_type": "code",
      "source": [
        "dtype = np.uint8\n",
        "shape = (128,128)\n",
        "\n",
        "# file_path /content/gdrive/My Drive/data/rawdata/xxxx\n",
        "pre_img_path=\"/content/gdrive/My Drive/data/rawdata/\"\n",
        "pre_path=\"/content/gdrive/My Drive/data/\"\n",
        "\n",
        "# Read the data from the binary file\n",
        "# data = np.fromfile(file_path, dtype=dtype).reshape(shape)"
      ],
      "metadata": {
        "id": "WwGYi2yb5I-8"
      },
      "execution_count": 63,
      "outputs": []
    },
    {
      "cell_type": "code",
      "source": [
        "\n",
        "\n",
        "# def readImage(path):\n",
        "#     with open(path,'rb') as f:\n",
        "#         # print(path)\n",
        "#         data = np.fromfile(f, dtype=np.uint8)\n",
        "#         image_array=np.reshape(data,(128,128))\n",
        "#         return image_array\n",
        "#         # return data\n",
        "    \n",
        "face=pd.read_csv(pre_path+\"faceLabel.csv\")\n",
        "\n",
        "# read image part\n",
        "# new=True\n",
        "# for  i in face[\"number\"]:\n",
        "#     # number=1223\n",
        "#     if new==True:\n",
        "#         path=pre_path+f\"rawdata/{i}\"\n",
        "#         new_element = np.fromfile(path, dtype=dtype).reshape(shape)\n",
        "#         dataset = tf.data.Dataset.from_tensor_slices([new_element])\n",
        "#         new=False\n",
        "#     else:\n",
        "#         path=pre_path+f\"rawdata/{i}\"\n",
        "#         data = np.fromfile(path, dtype=dtype).reshape(shape)\n",
        "#         new_element = tf.data.Dataset.from_tensor_slices([data])\n",
        "#         dataset = dataset.concatenate(new_element)\n",
        "    # if i>1230:\n",
        "    #     break\n",
        "# print(faceData.shape)\n",
        "# faceData.to_pickle(\"faceData2D\") \n",
        "dataset=tf.data.Dataset.load(pre_path+\"faceDataset\")\n",
        "print(dataset)\n",
        "\n",
        "\n",
        "# print(faceData)\n",
        "\n",
        "# plt.imshow(np.reshape(faceData.iloc[0,1],(128,128)), cmap='cividis', vmin=0, vmax=256)\n",
        "# plt.show()"
      ],
      "metadata": {
        "colab": {
          "base_uri": "https://localhost:8080/"
        },
        "id": "X0IWWLmd6iak",
        "outputId": "91fef76e-72e3-4202-9050-d140319a9195"
      },
      "execution_count": 64,
      "outputs": [
        {
          "output_type": "stream",
          "name": "stdout",
          "text": [
            "<_LoadDataset element_spec=TensorSpec(shape=(128, 128), dtype=tf.uint8, name=None)>\n"
          ]
        }
      ]
    },
    {
      "cell_type": "code",
      "source": [
        "face.head()"
      ],
      "metadata": {
        "colab": {
          "base_uri": "https://localhost:8080/",
          "height": 206
        },
        "id": "_qIhimK2FMXJ",
        "outputId": "5c3d52e3-2cc0-4e7b-a0c9-f199e92e0024"
      },
      "execution_count": 65,
      "outputs": [
        {
          "output_type": "execute_result",
          "data": {
            "text/plain": [
              "   number   sex    age   race  emotion extra  sex_label  age_adult  age_child  \\\n",
              "0    1223  male  child  white  smiling   NaN          1          0          1   \n",
              "1    1224  male  child  white  serious   NaN          1          0          1   \n",
              "2    1225  male  child  white  smiling   NaN          1          0          1   \n",
              "3    1226  male  child  white  smiling   NaN          1          0          1   \n",
              "4    1227  male  child  white  serious   NaN          1          0          1   \n",
              "\n",
              "   age_senior  age_teen  race_asian  race_black  race_hispanic  race_other  \\\n",
              "0           0         0           0           0              0           0   \n",
              "1           0         0           0           0              0           0   \n",
              "2           0         0           0           0              0           0   \n",
              "3           0         0           0           0              0           0   \n",
              "4           0         0           0           0              0           0   \n",
              "\n",
              "   race_white  emotion_funny  emotion_serious  emotion_smiling  \n",
              "0           1              0                0                1  \n",
              "1           1              0                1                0  \n",
              "2           1              0                0                1  \n",
              "3           1              0                0                1  \n",
              "4           1              0                1                0  "
            ],
            "text/html": [
              "\n",
              "  <div id=\"df-a0b7039e-f026-4adc-8d99-eb51d6cbd859\">\n",
              "    <div class=\"colab-df-container\">\n",
              "      <div>\n",
              "<style scoped>\n",
              "    .dataframe tbody tr th:only-of-type {\n",
              "        vertical-align: middle;\n",
              "    }\n",
              "\n",
              "    .dataframe tbody tr th {\n",
              "        vertical-align: top;\n",
              "    }\n",
              "\n",
              "    .dataframe thead th {\n",
              "        text-align: right;\n",
              "    }\n",
              "</style>\n",
              "<table border=\"1\" class=\"dataframe\">\n",
              "  <thead>\n",
              "    <tr style=\"text-align: right;\">\n",
              "      <th></th>\n",
              "      <th>number</th>\n",
              "      <th>sex</th>\n",
              "      <th>age</th>\n",
              "      <th>race</th>\n",
              "      <th>emotion</th>\n",
              "      <th>extra</th>\n",
              "      <th>sex_label</th>\n",
              "      <th>age_adult</th>\n",
              "      <th>age_child</th>\n",
              "      <th>age_senior</th>\n",
              "      <th>age_teen</th>\n",
              "      <th>race_asian</th>\n",
              "      <th>race_black</th>\n",
              "      <th>race_hispanic</th>\n",
              "      <th>race_other</th>\n",
              "      <th>race_white</th>\n",
              "      <th>emotion_funny</th>\n",
              "      <th>emotion_serious</th>\n",
              "      <th>emotion_smiling</th>\n",
              "    </tr>\n",
              "  </thead>\n",
              "  <tbody>\n",
              "    <tr>\n",
              "      <th>0</th>\n",
              "      <td>1223</td>\n",
              "      <td>male</td>\n",
              "      <td>child</td>\n",
              "      <td>white</td>\n",
              "      <td>smiling</td>\n",
              "      <td>NaN</td>\n",
              "      <td>1</td>\n",
              "      <td>0</td>\n",
              "      <td>1</td>\n",
              "      <td>0</td>\n",
              "      <td>0</td>\n",
              "      <td>0</td>\n",
              "      <td>0</td>\n",
              "      <td>0</td>\n",
              "      <td>0</td>\n",
              "      <td>1</td>\n",
              "      <td>0</td>\n",
              "      <td>0</td>\n",
              "      <td>1</td>\n",
              "    </tr>\n",
              "    <tr>\n",
              "      <th>1</th>\n",
              "      <td>1224</td>\n",
              "      <td>male</td>\n",
              "      <td>child</td>\n",
              "      <td>white</td>\n",
              "      <td>serious</td>\n",
              "      <td>NaN</td>\n",
              "      <td>1</td>\n",
              "      <td>0</td>\n",
              "      <td>1</td>\n",
              "      <td>0</td>\n",
              "      <td>0</td>\n",
              "      <td>0</td>\n",
              "      <td>0</td>\n",
              "      <td>0</td>\n",
              "      <td>0</td>\n",
              "      <td>1</td>\n",
              "      <td>0</td>\n",
              "      <td>1</td>\n",
              "      <td>0</td>\n",
              "    </tr>\n",
              "    <tr>\n",
              "      <th>2</th>\n",
              "      <td>1225</td>\n",
              "      <td>male</td>\n",
              "      <td>child</td>\n",
              "      <td>white</td>\n",
              "      <td>smiling</td>\n",
              "      <td>NaN</td>\n",
              "      <td>1</td>\n",
              "      <td>0</td>\n",
              "      <td>1</td>\n",
              "      <td>0</td>\n",
              "      <td>0</td>\n",
              "      <td>0</td>\n",
              "      <td>0</td>\n",
              "      <td>0</td>\n",
              "      <td>0</td>\n",
              "      <td>1</td>\n",
              "      <td>0</td>\n",
              "      <td>0</td>\n",
              "      <td>1</td>\n",
              "    </tr>\n",
              "    <tr>\n",
              "      <th>3</th>\n",
              "      <td>1226</td>\n",
              "      <td>male</td>\n",
              "      <td>child</td>\n",
              "      <td>white</td>\n",
              "      <td>smiling</td>\n",
              "      <td>NaN</td>\n",
              "      <td>1</td>\n",
              "      <td>0</td>\n",
              "      <td>1</td>\n",
              "      <td>0</td>\n",
              "      <td>0</td>\n",
              "      <td>0</td>\n",
              "      <td>0</td>\n",
              "      <td>0</td>\n",
              "      <td>0</td>\n",
              "      <td>1</td>\n",
              "      <td>0</td>\n",
              "      <td>0</td>\n",
              "      <td>1</td>\n",
              "    </tr>\n",
              "    <tr>\n",
              "      <th>4</th>\n",
              "      <td>1227</td>\n",
              "      <td>male</td>\n",
              "      <td>child</td>\n",
              "      <td>white</td>\n",
              "      <td>serious</td>\n",
              "      <td>NaN</td>\n",
              "      <td>1</td>\n",
              "      <td>0</td>\n",
              "      <td>1</td>\n",
              "      <td>0</td>\n",
              "      <td>0</td>\n",
              "      <td>0</td>\n",
              "      <td>0</td>\n",
              "      <td>0</td>\n",
              "      <td>0</td>\n",
              "      <td>1</td>\n",
              "      <td>0</td>\n",
              "      <td>1</td>\n",
              "      <td>0</td>\n",
              "    </tr>\n",
              "  </tbody>\n",
              "</table>\n",
              "</div>\n",
              "      <button class=\"colab-df-convert\" onclick=\"convertToInteractive('df-a0b7039e-f026-4adc-8d99-eb51d6cbd859')\"\n",
              "              title=\"Convert this dataframe to an interactive table.\"\n",
              "              style=\"display:none;\">\n",
              "        \n",
              "  <svg xmlns=\"http://www.w3.org/2000/svg\" height=\"24px\"viewBox=\"0 0 24 24\"\n",
              "       width=\"24px\">\n",
              "    <path d=\"M0 0h24v24H0V0z\" fill=\"none\"/>\n",
              "    <path d=\"M18.56 5.44l.94 2.06.94-2.06 2.06-.94-2.06-.94-.94-2.06-.94 2.06-2.06.94zm-11 1L8.5 8.5l.94-2.06 2.06-.94-2.06-.94L8.5 2.5l-.94 2.06-2.06.94zm10 10l.94 2.06.94-2.06 2.06-.94-2.06-.94-.94-2.06-.94 2.06-2.06.94z\"/><path d=\"M17.41 7.96l-1.37-1.37c-.4-.4-.92-.59-1.43-.59-.52 0-1.04.2-1.43.59L10.3 9.45l-7.72 7.72c-.78.78-.78 2.05 0 2.83L4 21.41c.39.39.9.59 1.41.59.51 0 1.02-.2 1.41-.59l7.78-7.78 2.81-2.81c.8-.78.8-2.07 0-2.86zM5.41 20L4 18.59l7.72-7.72 1.47 1.35L5.41 20z\"/>\n",
              "  </svg>\n",
              "      </button>\n",
              "      \n",
              "  <style>\n",
              "    .colab-df-container {\n",
              "      display:flex;\n",
              "      flex-wrap:wrap;\n",
              "      gap: 12px;\n",
              "    }\n",
              "\n",
              "    .colab-df-convert {\n",
              "      background-color: #E8F0FE;\n",
              "      border: none;\n",
              "      border-radius: 50%;\n",
              "      cursor: pointer;\n",
              "      display: none;\n",
              "      fill: #1967D2;\n",
              "      height: 32px;\n",
              "      padding: 0 0 0 0;\n",
              "      width: 32px;\n",
              "    }\n",
              "\n",
              "    .colab-df-convert:hover {\n",
              "      background-color: #E2EBFA;\n",
              "      box-shadow: 0px 1px 2px rgba(60, 64, 67, 0.3), 0px 1px 3px 1px rgba(60, 64, 67, 0.15);\n",
              "      fill: #174EA6;\n",
              "    }\n",
              "\n",
              "    [theme=dark] .colab-df-convert {\n",
              "      background-color: #3B4455;\n",
              "      fill: #D2E3FC;\n",
              "    }\n",
              "\n",
              "    [theme=dark] .colab-df-convert:hover {\n",
              "      background-color: #434B5C;\n",
              "      box-shadow: 0px 1px 3px 1px rgba(0, 0, 0, 0.15);\n",
              "      filter: drop-shadow(0px 1px 2px rgba(0, 0, 0, 0.3));\n",
              "      fill: #FFFFFF;\n",
              "    }\n",
              "  </style>\n",
              "\n",
              "      <script>\n",
              "        const buttonEl =\n",
              "          document.querySelector('#df-a0b7039e-f026-4adc-8d99-eb51d6cbd859 button.colab-df-convert');\n",
              "        buttonEl.style.display =\n",
              "          google.colab.kernel.accessAllowed ? 'block' : 'none';\n",
              "\n",
              "        async function convertToInteractive(key) {\n",
              "          const element = document.querySelector('#df-a0b7039e-f026-4adc-8d99-eb51d6cbd859');\n",
              "          const dataTable =\n",
              "            await google.colab.kernel.invokeFunction('convertToInteractive',\n",
              "                                                     [key], {});\n",
              "          if (!dataTable) return;\n",
              "\n",
              "          const docLinkHtml = 'Like what you see? Visit the ' +\n",
              "            '<a target=\"_blank\" href=https://colab.research.google.com/notebooks/data_table.ipynb>data table notebook</a>'\n",
              "            + ' to learn more about interactive tables.';\n",
              "          element.innerHTML = '';\n",
              "          dataTable['output_type'] = 'display_data';\n",
              "          await google.colab.output.renderOutput(dataTable, element);\n",
              "          const docLink = document.createElement('div');\n",
              "          docLink.innerHTML = docLinkHtml;\n",
              "          element.appendChild(docLink);\n",
              "        }\n",
              "      </script>\n",
              "    </div>\n",
              "  </div>\n",
              "  "
            ]
          },
          "metadata": {},
          "execution_count": 65
        }
      ]
    },
    {
      "cell_type": "code",
      "source": [
        "# tf.data.experimental.save(dataset, pre_path+\"faceDataset\")"
      ],
      "metadata": {
        "id": "0vFLXZ9G1Bxg"
      },
      "execution_count": 66,
      "outputs": []
    },
    {
      "cell_type": "code",
      "source": [
        "num_elements = tf.data.experimental.cardinality(dataset).numpy()\n",
        "\n",
        "print(f\"The concatenated dataset has {num_elements} elements.\")"
      ],
      "metadata": {
        "colab": {
          "base_uri": "https://localhost:8080/"
        },
        "id": "-x3lvfT8AVrF",
        "outputId": "75f70d7f-abbb-4dcf-fd15-9c25b21e993f"
      },
      "execution_count": 67,
      "outputs": [
        {
          "output_type": "stream",
          "name": "stdout",
          "text": [
            "The concatenated dataset has 3993 elements.\n"
          ]
        }
      ]
    },
    {
      "cell_type": "code",
      "source": [
        "def convert_image(image):\n",
        "    image = tf.expand_dims(image, axis=0)\n",
        "    image = tf.expand_dims(image, axis=-1)\n",
        "    return tf.tile(image, [1, 1, 1, 3])\n",
        "dataset_ = dataset.map(convert_image)"
      ],
      "metadata": {
        "id": "kqC9S03zvY0P"
      },
      "execution_count": 68,
      "outputs": []
    },
    {
      "cell_type": "code",
      "source": [
        "print(dataset_)"
      ],
      "metadata": {
        "colab": {
          "base_uri": "https://localhost:8080/"
        },
        "id": "m1l84hrIv5GR",
        "outputId": "4836f03d-bfb9-4e6f-f963-0fa5cd8c4eac"
      },
      "execution_count": 69,
      "outputs": [
        {
          "output_type": "stream",
          "name": "stdout",
          "text": [
            "<_MapDataset element_spec=TensorSpec(shape=(1, 128, 128, 3), dtype=tf.uint8, name=None)>\n"
          ]
        }
      ]
    },
    {
      "cell_type": "code",
      "source": [
        "# def add_batch_dimension(image):\n",
        "#     return tf.expand_dims(image, axis=0)\n",
        "# dataset_ = dataset_.map(convert_image)"
      ],
      "metadata": {
        "id": "20ClJ74Mw1ZM"
      },
      "execution_count": 70,
      "outputs": []
    },
    {
      "cell_type": "code",
      "source": [
        "# convert dataframe to tensor\n",
        "# label_tensor=tf.convert_to_tensor(face[\"sex_label\"].values)\n",
        "# label_tensor=tf.convert_to_tensor(face[[\"sex_label\",\"age_adult\",\"age_child\",\"age_senior\",\"age_teen\",\"race_asian\",\"race_black\",\"race_hispanic\",\"race_other\",\"race_white\",\"emotion_funny\",\"emotion_serious\",\"emotion_smiling\"]].values)\n",
        "label_tensor=tf.convert_to_tensor(face[[\"race_asian\",\"race_black\",\"race_hispanic\",\"race_other\",\"race_white\"]].values)\n",
        "# label_tensor=tf.convert_to_tensor(face[[\"emotion_funny\",\"emotion_serious\",\"emotion_smiling\"]].values)\n",
        "# label_tensor=tf.convert_to_tensor(face[[\"age_adult\",\"age_child\",\"age_senior\",\"age_teen\"]].values)"
      ],
      "metadata": {
        "id": "yJEdPIvNlIpA"
      },
      "execution_count": 71,
      "outputs": []
    },
    {
      "cell_type": "code",
      "source": [
        "num_out_put=label_tensor.shape[1]\n",
        "print(label_tensor)"
      ],
      "metadata": {
        "colab": {
          "base_uri": "https://localhost:8080/"
        },
        "id": "lqHRY-8jJtoK",
        "outputId": "5a994ff4-0016-44b0-f52f-45cce42e632c"
      },
      "execution_count": 72,
      "outputs": [
        {
          "output_type": "stream",
          "name": "stdout",
          "text": [
            "tf.Tensor(\n",
            "[[0 0 0 0 1]\n",
            " [0 0 0 0 1]\n",
            " [0 0 0 0 1]\n",
            " ...\n",
            " [0 0 0 0 1]\n",
            " [0 0 0 0 1]\n",
            " [0 0 0 0 1]], shape=(3993, 5), dtype=int64)\n"
          ]
        }
      ]
    },
    {
      "cell_type": "code",
      "source": [
        "label_tensor_=tf.data.Dataset.from_tensor_slices(label_tensor)"
      ],
      "metadata": {
        "id": "VFnOyym3ozYI"
      },
      "execution_count": 73,
      "outputs": []
    },
    {
      "cell_type": "code",
      "source": [
        "label_tensor_=tf.reshape(label_tensor,(num_elements,1,num_out_put))\n",
        "label_tensor__=tf.data.Dataset.from_tensor_slices(label_tensor_)"
      ],
      "metadata": {
        "id": "COyn4kRaGt1e"
      },
      "execution_count": 74,
      "outputs": []
    },
    {
      "cell_type": "code",
      "source": [
        "print(label_tensor_)\n",
        "# print(dataset)"
      ],
      "metadata": {
        "colab": {
          "base_uri": "https://localhost:8080/"
        },
        "id": "szbUiH0GoqBt",
        "outputId": "834ef8b3-1551-46aa-c899-a8f1688f967c"
      },
      "execution_count": 75,
      "outputs": [
        {
          "output_type": "stream",
          "name": "stdout",
          "text": [
            "tf.Tensor(\n",
            "[[[0 0 0 0 1]]\n",
            "\n",
            " [[0 0 0 0 1]]\n",
            "\n",
            " [[0 0 0 0 1]]\n",
            "\n",
            " ...\n",
            "\n",
            " [[0 0 0 0 1]]\n",
            "\n",
            " [[0 0 0 0 1]]\n",
            "\n",
            " [[0 0 0 0 1]]], shape=(3993, 1, 5), dtype=int64)\n"
          ]
        }
      ]
    },
    {
      "cell_type": "code",
      "source": [
        "# merge label and data\n",
        "data_=tf.data.Dataset.zip((dataset_,label_tensor__))\n",
        "# data_=tf.stack([dataset,label_tensor_.take(8)])"
      ],
      "metadata": {
        "id": "aYUVKXT1lLKP"
      },
      "execution_count": 76,
      "outputs": []
    },
    {
      "cell_type": "code",
      "source": [
        "# tf.data.experimental.save(data_, pre_path+\"face_Dataset\")"
      ],
      "metadata": {
        "id": "-IBL_hHr1nKD"
      },
      "execution_count": 77,
      "outputs": []
    },
    {
      "cell_type": "code",
      "source": [
        "print(data_)"
      ],
      "metadata": {
        "colab": {
          "base_uri": "https://localhost:8080/"
        },
        "id": "pLzxWs34qzAq",
        "outputId": "69c670ee-b9a6-45d6-9b55-6f1ef4bc76a9"
      },
      "execution_count": 78,
      "outputs": [
        {
          "output_type": "stream",
          "name": "stdout",
          "text": [
            "<_ZipDataset element_spec=(TensorSpec(shape=(1, 128, 128, 3), dtype=tf.uint8, name=None), TensorSpec(shape=(1, 5), dtype=tf.int64, name=None))>\n"
          ]
        }
      ]
    },
    {
      "cell_type": "code",
      "source": [
        "# split train and test sets\n",
        "# 计算训练集大小（例如，80% 的数据用于训练）\n",
        "train_size = int(num_elements * 0.8)\n",
        "\n",
        "# 使用 take 方法获取训练集\n",
        "ds_train_ = data_.take(train_size)\n",
        "\n",
        "# 使用 skip 方法获取测试集\n",
        "ds_valid_ = data_.skip(train_size)"
      ],
      "metadata": {
        "id": "PD8y7OORl_HZ"
      },
      "execution_count": 79,
      "outputs": []
    },
    {
      "cell_type": "code",
      "source": [
        "print(ds_valid_)"
      ],
      "metadata": {
        "colab": {
          "base_uri": "https://localhost:8080/"
        },
        "id": "ckq5Gp_6jQL-",
        "outputId": "8eac67cc-2e63-41ab-93d3-e28f947e1d48"
      },
      "execution_count": 80,
      "outputs": [
        {
          "output_type": "stream",
          "name": "stdout",
          "text": [
            "<_SkipDataset element_spec=(TensorSpec(shape=(1, 128, 128, 3), dtype=tf.uint8, name=None), TensorSpec(shape=(1, 5), dtype=tf.int64, name=None))>\n"
          ]
        }
      ]
    },
    {
      "cell_type": "code",
      "source": [
        "# Data Pipeline\n",
        "def convert_to_float(image,label ):\n",
        "    image = tf.image.convert_image_dtype(image, dtype=tf.float32)\n",
        "    return image, label\n",
        "\n",
        "AUTOTUNE = tf.data.experimental.AUTOTUNE\n",
        "ds_train = (\n",
        "    ds_train_\n",
        "    .map(convert_to_float)\n",
        "    .cache()\n",
        "    .prefetch(buffer_size=AUTOTUNE)\n",
        ")\n",
        "ds_valid = (\n",
        "    ds_valid_\n",
        "    .map(convert_to_float)\n",
        "    .cache()\n",
        "    .prefetch(buffer_size=AUTOTUNE)\n",
        ")"
      ],
      "metadata": {
        "id": "wtjNfIRobda1"
      },
      "execution_count": 81,
      "outputs": []
    },
    {
      "cell_type": "code",
      "source": [
        "ds_train"
      ],
      "metadata": {
        "id": "CkGSS-JydGwX",
        "colab": {
          "base_uri": "https://localhost:8080/"
        },
        "outputId": "7d00533a-5085-4d2a-a169-87078c23ee48"
      },
      "execution_count": 82,
      "outputs": [
        {
          "output_type": "execute_result",
          "data": {
            "text/plain": [
              "<_PrefetchDataset element_spec=(TensorSpec(shape=(1, 128, 128, 3), dtype=tf.float32, name=None), TensorSpec(shape=(1, 5), dtype=tf.int64, name=None))>"
            ]
          },
          "metadata": {},
          "execution_count": 82
        }
      ]
    },
    {
      "cell_type": "code",
      "source": [
        "# ds_valid\n",
        "num_elements1 = tf.data.experimental.cardinality(ds_train_).numpy()\n",
        "\n",
        "print(f\"The concatenated ds_train has {num_elements1} elements.\")"
      ],
      "metadata": {
        "colab": {
          "base_uri": "https://localhost:8080/"
        },
        "id": "xbrG2NMvcgzp",
        "outputId": "b5ce3c10-e147-4f0b-b501-c0734c63e2f2"
      },
      "execution_count": 83,
      "outputs": [
        {
          "output_type": "stream",
          "name": "stdout",
          "text": [
            "The concatenated ds_train has 3194 elements.\n"
          ]
        }
      ]
    },
    {
      "cell_type": "markdown",
      "source": [
        "The **InceptionV1** model pretrained on ImageNet is available in the [TensorFlow Hub](https://www.tensorflow.org/hub/) repository, but we'll load it from a local copy. Run this cell to load InceptionV1 for your base."
      ],
      "metadata": {
        "id": "Miq5jZLC5Nw2"
      }
    },
    {
      "cell_type": "code",
      "source": [
        "# !pip install mmdnn"
      ],
      "metadata": {
        "id": "iIbD-yQsQwiq"
      },
      "execution_count": 84,
      "outputs": []
    },
    {
      "cell_type": "code",
      "source": [
        "# !mmconvert -sf pytorch -in http://www.robots.ox.ac.uk/~albanie/models/pytorch-mcn/vgg_face_dag.pth -df tensorflow -om /content/gdrive/data/vgg_face.pb   "
      ],
      "metadata": {
        "id": "fd0haOq-Q0du"
      },
      "execution_count": 85,
      "outputs": []
    },
    {
      "cell_type": "code",
      "source": [
        "import tensorflow_hub as hub\n",
        "\n",
        "# pretrained_base = tf.keras.models.load_model(\n",
        "#     '/content/gdrive/My Drive/data/vgg_face.pb'\n",
        "# )\n",
        "# pretrained_base = hub.KerasLayer(\"https://tfhub.dev/google/imagenet/inception_resnet_v2/classification/5\")\n",
        "pretrained_base = hub.KerasLayer(\"https://tfhub.dev/google/imagenet/inception_v1/classification/5\")"
      ],
      "metadata": {
        "lines_to_next_cell": 0,
        "execution": {
          "iopub.status.busy": "2023-05-16T12:53:35.931707Z",
          "iopub.execute_input": "2023-05-16T12:53:35.932259Z",
          "iopub.status.idle": "2023-05-16T12:53:42.358947Z",
          "shell.execute_reply.started": "2023-05-16T12:53:35.932218Z",
          "shell.execute_reply": "2023-05-16T12:53:42.357860Z"
        },
        "trusted": true,
        "id": "ZI7399pz5Nw2"
      },
      "execution_count": 86,
      "outputs": []
    },
    {
      "cell_type": "markdown",
      "source": [
        "# 1) Define Pretrained Base #\n",
        "\n",
        "Now that you have a pretrained base to do our feature extraction, decide whether this base should be trainable or not."
      ],
      "metadata": {
        "id": "_jethAkc5Nw2"
      }
    },
    {
      "cell_type": "code",
      "source": [
        "# YOUR_CODE_HERE\n",
        "pretrained_base.trainable = False\n",
        "\n"
      ],
      "metadata": {
        "lines_to_next_cell": 0,
        "execution": {
          "iopub.status.busy": "2023-05-16T12:55:03.339427Z",
          "iopub.execute_input": "2023-05-16T12:55:03.339917Z",
          "iopub.status.idle": "2023-05-16T12:55:03.352259Z",
          "shell.execute_reply.started": "2023-05-16T12:55:03.339861Z",
          "shell.execute_reply": "2023-05-16T12:55:03.351273Z"
        },
        "trusted": true,
        "id": "LiuMptJt5Nw2"
      },
      "execution_count": 87,
      "outputs": []
    },
    {
      "cell_type": "code",
      "source": [
        "# Lines below will give you a hint or solution code\n",
        "#q_1.hint()\n",
        "#q_1.solution()"
      ],
      "metadata": {
        "id": "BkBobfT45Nw3"
      },
      "execution_count": 88,
      "outputs": []
    },
    {
      "cell_type": "markdown",
      "source": [
        "# 2) Attach Head #\n",
        "\n",
        "Now that the base is defined to do the feature extraction, create a head of `Dense` layers to perform the classification, following this diagram:\n",
        "\n",
        "<figure>\n",
        "<img src=\"https://storage.googleapis.com/kaggle-media/learn/images/i5VU7Ry.png\" alt=\"Diagram of the dense head.\">\n",
        "</figure>\n"
      ],
      "metadata": {
        "id": "Ui8Rj79F5Nw3"
      }
    },
    {
      "cell_type": "code",
      "source": [
        "from tensorflow import keras\n",
        "from tensorflow.keras import layers\n",
        "\n",
        "model = keras.Sequential([\n",
        "    pretrained_base,\n",
        "    layers.Flatten(),\n",
        "    layers.Dropout(0.1),\n",
        "    layers.Dense(10*num_out_put, activation='relu'),\n",
        "    layers.Dropout(0.1),\n",
        "    layers.Dense(num_out_put, activation='sigmoid'),\n",
        "])\n"
      ],
      "metadata": {
        "lines_to_next_cell": 0,
        "execution": {
          "iopub.status.busy": "2023-05-16T12:57:37.306235Z",
          "iopub.execute_input": "2023-05-16T12:57:37.306604Z",
          "iopub.status.idle": "2023-05-16T12:57:37.332197Z",
          "shell.execute_reply.started": "2023-05-16T12:57:37.306574Z",
          "shell.execute_reply": "2023-05-16T12:57:37.331264Z"
        },
        "trusted": true,
        "id": "8muuR-yz5Nw3"
      },
      "execution_count": 89,
      "outputs": []
    },
    {
      "cell_type": "markdown",
      "source": [
        "# 3) Train #\n",
        "\n",
        "Before training a model in Keras, you need to specify an *optimizer* to perform the gradient descent, a *loss function* to be minimized, and (optionally) any *performance metrics*. The optimization algorithm we'll use for this course is called [\"Adam\"](https://keras.io/api/optimizers/adam/), which generally performs well regardless of what kind of problem you're trying to solve.\n",
        "\n",
        "The loss and the metrics, however, need to match the kind of problem you're trying to solve. Our problem is a **binary classification** problem: `Car` coded as 0, and `Truck` coded as 1. Choose an appropriate loss and an appropriate accuracy metric for binary classification."
      ],
      "metadata": {
        "id": "8HGG7m-d5Nw4"
      }
    },
    {
      "cell_type": "code",
      "source": [
        "# YOUR CODE HERE: what loss function should you use for a binary\n",
        "# classification problem? (Your answer for each should be a string.)\n",
        "# optimizer = tf.keras.optimizers.Adam(epsilon=0.01)\n",
        "model.compile(\n",
        "    optimizer=\"adam\",\n",
        "    loss='binary_crossentropy',\n",
        "    metrics=['accuracy'],\n",
        ")\n",
        "\n"
      ],
      "metadata": {
        "lines_to_next_cell": 0,
        "execution": {
          "iopub.status.busy": "2023-05-16T12:58:57.504722Z",
          "iopub.execute_input": "2023-05-16T12:58:57.505119Z",
          "iopub.status.idle": "2023-05-16T12:58:57.537948Z",
          "shell.execute_reply.started": "2023-05-16T12:58:57.505065Z",
          "shell.execute_reply": "2023-05-16T12:58:57.536937Z"
        },
        "trusted": true,
        "id": "7e_nGQBc5Nw4"
      },
      "execution_count": 90,
      "outputs": []
    },
    {
      "cell_type": "code",
      "source": [
        "from tensorflow.keras.callbacks import ModelCheckpoint,EarlyStopping\n",
        "checkpoint = ModelCheckpoint('model-{epoch:02d}.h5', save_weights_only=True)\n",
        "early_stopping = EarlyStopping(monitor='val_loss', patience=13,restore_best_weights=True)"
      ],
      "metadata": {
        "id": "JiylYAKuh4gy"
      },
      "execution_count": 91,
      "outputs": []
    },
    {
      "cell_type": "code",
      "source": [
        "history = model.fit(\n",
        "    ds_train,\n",
        "    validation_data=ds_valid,\n",
        "    epochs=200,\n",
        "    callbacks=[checkpoint,early_stopping]\n",
        ")"
      ],
      "metadata": {
        "execution": {
          "iopub.status.busy": "2023-05-16T12:59:00.842917Z",
          "iopub.execute_input": "2023-05-16T12:59:00.843631Z",
          "iopub.status.idle": "2023-05-16T13:01:58.432963Z",
          "shell.execute_reply.started": "2023-05-16T12:59:00.843595Z",
          "shell.execute_reply": "2023-05-16T13:01:58.431540Z"
        },
        "trusted": true,
        "colab": {
          "base_uri": "https://localhost:8080/"
        },
        "id": "PqZ2KI6A5Nw4",
        "outputId": "3c308361-956d-471e-86c5-3ad15a30ab10"
      },
      "execution_count": 93,
      "outputs": [
        {
          "output_type": "stream",
          "name": "stdout",
          "text": [
            "Epoch 1/200\n",
            "3194/3194 [==============================] - 43s 12ms/step - loss: 0.1725 - accuracy: 0.9148 - val_loss: 0.2932 - val_accuracy: 0.9237\n",
            "Epoch 2/200\n",
            "3194/3194 [==============================] - 30s 9ms/step - loss: 0.1390 - accuracy: 0.9152 - val_loss: 0.3331 - val_accuracy: 0.9224\n",
            "Epoch 3/200\n",
            "3194/3194 [==============================] - 30s 9ms/step - loss: 0.1145 - accuracy: 0.9217 - val_loss: 0.2801 - val_accuracy: 0.9224\n",
            "Epoch 4/200\n",
            "3194/3194 [==============================] - 31s 10ms/step - loss: 0.1122 - accuracy: 0.9230 - val_loss: 0.1838 - val_accuracy: 0.9224\n",
            "Epoch 5/200\n",
            "3194/3194 [==============================] - 30s 10ms/step - loss: 0.1029 - accuracy: 0.9224 - val_loss: 0.1889 - val_accuracy: 0.9212\n",
            "Epoch 6/200\n",
            "3194/3194 [==============================] - 31s 10ms/step - loss: 0.0996 - accuracy: 0.9217 - val_loss: 0.1555 - val_accuracy: 0.9212\n",
            "Epoch 7/200\n",
            "3194/3194 [==============================] - 29s 9ms/step - loss: 0.0950 - accuracy: 0.9242 - val_loss: 0.1624 - val_accuracy: 0.9174\n",
            "Epoch 8/200\n",
            "3194/3194 [==============================] - 32s 10ms/step - loss: 0.0992 - accuracy: 0.9227 - val_loss: 0.1481 - val_accuracy: 0.9161\n",
            "Epoch 9/200\n",
            "3194/3194 [==============================] - 31s 10ms/step - loss: 0.0923 - accuracy: 0.9224 - val_loss: 0.1461 - val_accuracy: 0.9186\n",
            "Epoch 10/200\n",
            "3194/3194 [==============================] - 29s 9ms/step - loss: 0.1072 - accuracy: 0.9252 - val_loss: 0.1559 - val_accuracy: 0.9186\n",
            "Epoch 11/200\n",
            "3194/3194 [==============================] - 32s 10ms/step - loss: 0.0837 - accuracy: 0.9305 - val_loss: 0.1661 - val_accuracy: 0.9174\n",
            "Epoch 12/200\n",
            "3194/3194 [==============================] - 29s 9ms/step - loss: 0.0867 - accuracy: 0.9233 - val_loss: 0.1531 - val_accuracy: 0.9186\n",
            "Epoch 13/200\n",
            "3194/3194 [==============================] - 29s 9ms/step - loss: 0.0870 - accuracy: 0.9258 - val_loss: 0.1781 - val_accuracy: 0.9099\n",
            "Epoch 14/200\n",
            "3194/3194 [==============================] - 31s 10ms/step - loss: 0.0806 - accuracy: 0.9277 - val_loss: 0.1508 - val_accuracy: 0.9174\n",
            "Epoch 15/200\n",
            "3194/3194 [==============================] - 29s 9ms/step - loss: 0.0884 - accuracy: 0.9368 - val_loss: 0.1632 - val_accuracy: 0.9061\n",
            "Epoch 16/200\n",
            "3194/3194 [==============================] - 29s 9ms/step - loss: 0.0892 - accuracy: 0.9274 - val_loss: 0.1610 - val_accuracy: 0.9186\n",
            "Epoch 17/200\n",
            "3194/3194 [==============================] - 29s 9ms/step - loss: 0.0876 - accuracy: 0.9305 - val_loss: 0.1587 - val_accuracy: 0.9161\n",
            "Epoch 18/200\n",
            "3194/3194 [==============================] - 29s 9ms/step - loss: 0.0827 - accuracy: 0.9330 - val_loss: 0.1596 - val_accuracy: 0.9149\n",
            "Epoch 19/200\n",
            "3194/3194 [==============================] - 29s 9ms/step - loss: 0.0825 - accuracy: 0.9355 - val_loss: 0.1478 - val_accuracy: 0.9174\n",
            "Epoch 20/200\n",
            "3194/3194 [==============================] - 30s 10ms/step - loss: 0.0757 - accuracy: 0.9346 - val_loss: 0.1522 - val_accuracy: 0.9199\n",
            "Epoch 21/200\n",
            "3194/3194 [==============================] - 29s 9ms/step - loss: 0.0798 - accuracy: 0.9346 - val_loss: 0.1443 - val_accuracy: 0.9186\n",
            "Epoch 22/200\n",
            "3194/3194 [==============================] - 29s 9ms/step - loss: 0.0778 - accuracy: 0.9292 - val_loss: 0.1466 - val_accuracy: 0.9186\n",
            "Epoch 23/200\n",
            "3194/3194 [==============================] - 29s 9ms/step - loss: 0.0784 - accuracy: 0.9349 - val_loss: 0.1577 - val_accuracy: 0.9099\n",
            "Epoch 24/200\n",
            "3194/3194 [==============================] - 30s 10ms/step - loss: 0.0916 - accuracy: 0.9302 - val_loss: 0.1468 - val_accuracy: 0.9186\n",
            "Epoch 25/200\n",
            "3194/3194 [==============================] - 30s 9ms/step - loss: 0.0797 - accuracy: 0.9346 - val_loss: 0.1572 - val_accuracy: 0.9149\n",
            "Epoch 26/200\n",
            "3194/3194 [==============================] - 29s 9ms/step - loss: 0.0846 - accuracy: 0.9349 - val_loss: 0.1432 - val_accuracy: 0.9224\n",
            "Epoch 27/200\n",
            "3194/3194 [==============================] - 29s 9ms/step - loss: 0.0807 - accuracy: 0.9302 - val_loss: 0.1477 - val_accuracy: 0.9174\n",
            "Epoch 28/200\n",
            "3194/3194 [==============================] - 30s 9ms/step - loss: 0.0781 - accuracy: 0.9361 - val_loss: 0.1656 - val_accuracy: 0.9086\n",
            "Epoch 29/200\n",
            "3194/3194 [==============================] - 29s 9ms/step - loss: 0.0805 - accuracy: 0.9343 - val_loss: 0.1543 - val_accuracy: 0.9199\n",
            "Epoch 30/200\n",
            "3194/3194 [==============================] - 31s 10ms/step - loss: 0.0775 - accuracy: 0.9380 - val_loss: 0.1690 - val_accuracy: 0.9149\n",
            "Epoch 31/200\n",
            "3194/3194 [==============================] - 29s 9ms/step - loss: 0.0843 - accuracy: 0.9336 - val_loss: 0.1433 - val_accuracy: 0.9161\n",
            "Epoch 32/200\n",
            "3194/3194 [==============================] - 29s 9ms/step - loss: 0.0832 - accuracy: 0.9336 - val_loss: 0.1660 - val_accuracy: 0.9186\n",
            "Epoch 33/200\n",
            "3194/3194 [==============================] - 29s 9ms/step - loss: 0.0813 - accuracy: 0.9396 - val_loss: 0.1571 - val_accuracy: 0.9136\n",
            "Epoch 34/200\n",
            "3194/3194 [==============================] - 29s 9ms/step - loss: 0.0767 - accuracy: 0.9311 - val_loss: 0.1544 - val_accuracy: 0.9186\n",
            "Epoch 35/200\n",
            "3194/3194 [==============================] - 29s 9ms/step - loss: 0.0807 - accuracy: 0.9321 - val_loss: 0.1418 - val_accuracy: 0.9212\n",
            "Epoch 36/200\n",
            "3194/3194 [==============================] - 29s 9ms/step - loss: 0.0848 - accuracy: 0.9386 - val_loss: 0.2115 - val_accuracy: 0.9174\n",
            "Epoch 37/200\n",
            "3194/3194 [==============================] - 30s 10ms/step - loss: 0.0759 - accuracy: 0.9383 - val_loss: 0.1634 - val_accuracy: 0.9224\n",
            "Epoch 38/200\n",
            "3194/3194 [==============================] - 32s 10ms/step - loss: 0.0720 - accuracy: 0.9377 - val_loss: 0.1579 - val_accuracy: 0.9212\n",
            "Epoch 39/200\n",
            "3194/3194 [==============================] - 29s 9ms/step - loss: 0.0826 - accuracy: 0.9368 - val_loss: 0.1912 - val_accuracy: 0.9186\n",
            "Epoch 40/200\n",
            "3194/3194 [==============================] - 30s 9ms/step - loss: 0.0778 - accuracy: 0.9389 - val_loss: 0.1788 - val_accuracy: 0.9212\n",
            "Epoch 41/200\n",
            "3194/3194 [==============================] - 30s 9ms/step - loss: 0.0761 - accuracy: 0.9396 - val_loss: 0.1485 - val_accuracy: 0.9186\n",
            "Epoch 42/200\n",
            "3194/3194 [==============================] - 30s 9ms/step - loss: 0.0731 - accuracy: 0.9402 - val_loss: 0.1524 - val_accuracy: 0.9212\n",
            "Epoch 43/200\n",
            "3194/3194 [==============================] - 29s 9ms/step - loss: 0.0781 - accuracy: 0.9377 - val_loss: 0.1654 - val_accuracy: 0.9224\n",
            "Epoch 44/200\n",
            "3194/3194 [==============================] - 29s 9ms/step - loss: 0.0777 - accuracy: 0.9377 - val_loss: 0.1906 - val_accuracy: 0.9199\n",
            "Epoch 45/200\n",
            "3194/3194 [==============================] - 29s 9ms/step - loss: 0.0825 - accuracy: 0.9386 - val_loss: 0.1691 - val_accuracy: 0.9237\n",
            "Epoch 46/200\n",
            "3194/3194 [==============================] - 30s 9ms/step - loss: 0.0717 - accuracy: 0.9383 - val_loss: 0.1681 - val_accuracy: 0.9212\n",
            "Epoch 47/200\n",
            "3194/3194 [==============================] - 30s 10ms/step - loss: 0.0712 - accuracy: 0.9393 - val_loss: 0.1747 - val_accuracy: 0.9237\n",
            "Epoch 48/200\n",
            "3194/3194 [==============================] - 30s 9ms/step - loss: 0.0812 - accuracy: 0.9396 - val_loss: 0.1521 - val_accuracy: 0.9212\n"
          ]
        }
      ]
    },
    {
      "cell_type": "code",
      "source": [
        "model.summary()"
      ],
      "metadata": {
        "colab": {
          "base_uri": "https://localhost:8080/"
        },
        "id": "DF_r3E1imoFd",
        "outputId": "156547ce-4461-4da6-ddf8-ca5c6fce25e7"
      },
      "execution_count": 94,
      "outputs": [
        {
          "output_type": "stream",
          "name": "stdout",
          "text": [
            "Model: \"sequential_1\"\n",
            "_________________________________________________________________\n",
            " Layer (type)                Output Shape              Param #   \n",
            "=================================================================\n",
            " keras_layer_1 (KerasLayer)  (1, 1001)                 6633209   \n",
            "                                                                 \n",
            " flatten_1 (Flatten)         (1, 1001)                 0         \n",
            "                                                                 \n",
            " dropout_2 (Dropout)         (1, 1001)                 0         \n",
            "                                                                 \n",
            " dense_2 (Dense)             (1, 50)                   50100     \n",
            "                                                                 \n",
            " dropout_3 (Dropout)         (1, 50)                   0         \n",
            "                                                                 \n",
            " dense_3 (Dense)             (1, 5)                    255       \n",
            "                                                                 \n",
            "=================================================================\n",
            "Total params: 6,683,564\n",
            "Trainable params: 50,355\n",
            "Non-trainable params: 6,633,209\n",
            "_________________________________________________________________\n"
          ]
        }
      ]
    },
    {
      "cell_type": "markdown",
      "source": [
        "Run the cell below to plot the loss and metric curves for this training run."
      ],
      "metadata": {
        "id": "2eGtsDuy5Nw4"
      }
    },
    {
      "cell_type": "code",
      "source": [
        "import pandas as pd\n",
        "history_frame = pd.DataFrame(history.history)\n",
        "history_frame.loc[:, ['loss', 'val_loss']].plot()\n",
        "history_frame.loc[:, ['accuracy', 'val_accuracy']].plot();"
      ],
      "metadata": {
        "execution": {
          "iopub.status.busy": "2023-05-16T13:02:11.252892Z",
          "iopub.execute_input": "2023-05-16T13:02:11.253292Z",
          "iopub.status.idle": "2023-05-16T13:02:12.179823Z",
          "shell.execute_reply.started": "2023-05-16T13:02:11.253258Z",
          "shell.execute_reply": "2023-05-16T13:02:12.178783Z"
        },
        "trusted": true,
        "id": "0B8D0dj25Nw4",
        "colab": {
          "base_uri": "https://localhost:8080/",
          "height": 843
        },
        "outputId": "49f62f0f-531d-4f00-9f13-abf000c892b7"
      },
      "execution_count": 95,
      "outputs": [
        {
          "output_type": "display_data",
          "data": {
            "text/plain": [
              "<Figure size 640x480 with 1 Axes>"
            ],
            "image/png": "[encoded data removed]"
          },
          "metadata": {}
        },
        {
          "output_type": "display_data",
          "data": {
            "text/plain": [
              "<Figure size 640x480 with 1 Axes>"
            ],
            "image/png": "[encoded data removed]"
          },
          "metadata": {}
        }
      ]
    },
    {
      "cell_type": "code",
      "source": [
        "# model.predict(ds_valid)"
      ],
      "metadata": {
        "colab": {
          "base_uri": "https://localhost:8080/"
        },
        "id": "tn4-I7XBlaFi",
        "outputId": "91b2cafd-aae3-4f17-f57d-8463ddf8bc87"
      },
      "execution_count": 34,
      "outputs": [
        {
          "output_type": "stream",
          "name": "stdout",
          "text": [
            "799/799 [==============================] - 6s 7ms/step\n"
          ]
        },
        {
          "output_type": "execute_result",
          "data": {
            "text/plain": [
              "array([[0.5652517 , 0.3014741 , 0.1549335 , 0.30516547],\n",
              "       [0.5652517 , 0.3014741 , 0.1549335 , 0.30516547],\n",
              "       [0.5652517 , 0.3014741 , 0.1549335 , 0.30516547],\n",
              "       ...,\n",
              "       [0.5652517 , 0.3014741 , 0.1549335 , 0.30516547],\n",
              "       [0.5652517 , 0.3014741 , 0.1549335 , 0.30516547],\n",
              "       [0.5652517 , 0.3014741 , 0.1549335 , 0.30516547]], dtype=float32)"
            ]
          },
          "metadata": {},
          "execution_count": 34
        }
      ]
    },
    {
      "cell_type": "code",
      "source": [
        "for layer in model.layers:\n",
        "  if isinstance(layer,layers.Dense):\n",
        "    print((layer.get_weights()))\n",
        "    break\n",
        "    # print(layer)\n"
      ],
      "metadata": {
        "colab": {
          "base_uri": "https://localhost:8080/"
        },
        "id": "AGSO2DXdoDSI",
        "outputId": "82834af4-c142-4922-cc5d-6a7a6fdb649e"
      },
      "execution_count": 43,
      "outputs": [
        {
          "output_type": "stream",
          "name": "stdout",
          "text": [
            "[array([[-0.0142886 ,  0.11578102,  0.07826566, ...,  0.03357147,\n",
            "         0.01767257,  0.07662729],\n",
            "       [ 0.04430417, -0.09763376, -0.06159344, ...,  0.01374145,\n",
            "        -0.05219136, -0.03201669],\n",
            "       [ 0.08740459, -0.00451972, -0.05698552, ...,  0.07482419,\n",
            "         0.00068098,  0.08517661],\n",
            "       ...,\n",
            "       [-0.03174966,  0.0217106 ,  0.05718704, ...,  0.01515822,\n",
            "        -0.0451726 ,  0.00377599],\n",
            "       [ 0.02465706, -0.04368154, -0.01012465, ..., -0.08521726,\n",
            "        -0.06486321, -0.02361359],\n",
            "       [-0.06471843, -0.03279728, -0.03605763, ..., -0.06742048,\n",
            "        -0.06389673, -0.09596284]], dtype=float32), array([-0.02187997, -0.03587789, -0.01923055, -0.04521722, -0.01762222,\n",
            "       -0.00936001,  0.01559161, -0.02636992, -0.00851011, -0.00704776,\n",
            "       -0.02804304, -0.02149964, -0.01475346, -0.01056102, -0.01583933,\n",
            "       -0.00534683, -0.00600388, -0.03206867, -0.02268383, -0.0153858 ,\n",
            "       -0.03394879, -0.03422192, -0.01706379, -0.01328956, -0.03556973,\n",
            "       -0.02535024, -0.03664655, -0.00462736, -0.00320228, -0.01635176,\n",
            "       -0.01420557, -0.01020081,  0.00347781, -0.0229517 , -0.00821526,\n",
            "       -0.03466911, -0.02916498, -0.0058669 , -0.01012124, -0.04250903],\n",
            "      dtype=float32)]\n"
          ]
        }
      ]
    },
    {
      "cell_type": "code",
      "source": [
        "i=0\n",
        "for e in ds_valid:\n",
        "  # print(e[1])\n",
        "  # print(e[0])\n",
        "  # prediction=model.predict(e[0])\n",
        "  # print(prediction)\n",
        "  # print([1 if i>0.5 else 0 for i in l ])\n",
        "  i+=1\n",
        "  if i>230:\n",
        "    print(e[1])\n",
        "    # print(e[0])\n",
        "    prediction=model.predict(e[0])\n",
        "    print(prediction)\n",
        "    break"
      ],
      "metadata": {
        "colab": {
          "base_uri": "https://localhost:8080/"
        },
        "id": "jZXDSkQkiFRG",
        "outputId": "07030e3e-b077-4e53-95ea-7eadc1e4c355"
      },
      "execution_count": 35,
      "outputs": [
        {
          "output_type": "stream",
          "name": "stdout",
          "text": [
            "tf.Tensor([[0 0 0 1]], shape=(1, 4), dtype=int64)\n",
            "1/1 [==============================] - 1s 712ms/step\n",
            "[[0.5652517  0.3014741  0.1549335  0.30516547]]\n"
          ]
        }
      ]
    },
    {
      "cell_type": "code",
      "source": [
        "\n",
        "print([1 if i>0.5 else 0 for i in prediction[0]])"
      ],
      "metadata": {
        "colab": {
          "base_uri": "https://localhost:8080/"
        },
        "id": "yw44gO7fiF0E",
        "outputId": "64d59f6c-05dd-4499-f39f-7dcd1fe43366"
      },
      "execution_count": 150,
      "outputs": [
        {
          "output_type": "stream",
          "name": "stdout",
          "text": [
            "[1, 0, 0, 0]\n"
          ]
        }
      ]
    },
    {
      "cell_type": "code",
      "source": [
        "# # 定义输入和输出\n",
        "# inputs = {'input_image': model.input}\n",
        "# outputs = {'output_scores': model.output}\n",
        "\n",
        "# 导出模型\n",
        "tf.saved_model.save(model, pre_path+\"model4raceClassfier\")"
      ],
      "metadata": {
        "colab": {
          "base_uri": "https://localhost:8080/"
        },
        "id": "TvYefEfnWjpM",
        "outputId": "47c396c4-5029-44d9-a83e-17181714b744"
      },
      "execution_count": 96,
      "outputs": [
        {
          "output_type": "stream",
          "name": "stderr",
          "text": [
            "WARNING:absl:Found untraced functions such as _update_step_xla while saving (showing 1 of 1). These functions will not be directly callable after loading.\n"
          ]
        }
      ]
    },
    {
      "cell_type": "code",
      "source": [
        "model_load=tf.saved_model.load(pre_path+\"model4multiClassfier\")"
      ],
      "metadata": {
        "id": "TnDdUPJTWEIN"
      },
      "execution_count": null,
      "outputs": []
    },
    {
      "cell_type": "code",
      "source": [
        "print(model_load.signatures.keys())"
      ],
      "metadata": {
        "colab": {
          "base_uri": "https://localhost:8080/"
        },
        "id": "27bpgWuGXeF9",
        "outputId": "7043ead6-7189-4b64-a901-c3a881b5aa82"
      },
      "execution_count": null,
      "outputs": [
        {
          "output_type": "stream",
          "name": "stdout",
          "text": [
            "KeysView(_SignatureMap({'serving_default': <ConcreteFunction signature_wrapper(*, keras_layer_1_input) at 0x7F32ECFDBA30>}))\n"
          ]
        }
      ]
    },
    {
      "cell_type": "code",
      "source": [
        "# model.predict(ds_valid_)"
      ],
      "metadata": {
        "id": "N-5TA-yaUGnI"
      },
      "execution_count": null,
      "outputs": []
    },
    {
      "cell_type": "code",
      "source": [
        "for e in ds_valid:\n",
        "  print(e[1])\n",
        "  # print(e[0])\n",
        "  prediction=model_load.signatures['serving_default'](e[0])\n",
        "  print(prediction)\n",
        "  # print([1 if i>0.5 else 0 for i in l ])\n",
        "  break"
      ],
      "metadata": {
        "colab": {
          "base_uri": "https://localhost:8080/"
        },
        "id": "NXhVoW6wUR3e",
        "outputId": "03f39680-4a76-4db7-8d90-4e6f1fac1d8e"
      },
      "execution_count": null,
      "outputs": [
        {
          "output_type": "stream",
          "name": "stdout",
          "text": [
            "tf.Tensor([[0 1 0 0 0 0 1 0 0 0 0 1 0]], shape=(1, 13), dtype=int64)\n",
            "{'dense_9': <tf.Tensor: shape=(1, 13), dtype=float32, numpy=\n",
            "array([[0.5894316 , 0.69462717, 0.12269506, 0.05266987, 0.1185525 ,\n",
            "        0.04996633, 0.0614967 , 0.02865472, 0.0142109 , 0.88190126,\n",
            "        0.04295626, 0.4834961 , 0.4897717 ]], dtype=float32)>}\n"
          ]
        }
      ]
    },
    {
      "cell_type": "code",
      "source": [
        "print(prediction['dense_9'].numpy())"
      ],
      "metadata": {
        "colab": {
          "base_uri": "https://localhost:8080/"
        },
        "id": "S8jWYoaEYZK6",
        "outputId": "f2b062b8-6d99-417c-e631-b7f61069a95c"
      },
      "execution_count": null,
      "outputs": [
        {
          "output_type": "stream",
          "name": "stdout",
          "text": [
            "[[0.5894316  0.69462717 0.12269506 0.05266987 0.1185525  0.04996633\n",
            "  0.0614967  0.02865472 0.0142109  0.88190126 0.04295626 0.4834961\n",
            "  0.4897717 ]]\n"
          ]
        }
      ]
    },
    {
      "cell_type": "code",
      "source": [
        "print([1 if i>0.5 else 0 for i in prediction['dense_9'].numpy()[0]])"
      ],
      "metadata": {
        "colab": {
          "base_uri": "https://localhost:8080/"
        },
        "id": "PuelUgJqYNOp",
        "outputId": "6a716591-72e9-456a-b802-ee6f390811d8"
      },
      "execution_count": null,
      "outputs": [
        {
          "output_type": "stream",
          "name": "stdout",
          "text": [
            "[1, 1, 0, 0, 0, 0, 0, 0, 0, 1, 0, 0, 0]\n"
          ]
        }
      ]
    }
  ]
}