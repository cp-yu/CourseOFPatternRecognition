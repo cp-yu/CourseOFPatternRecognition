{
  "nbformat": 4,
  "nbformat_minor": 0,
  "metadata": {
    "colab": {
      "provenance": [],
      "gpuType": "T4"
    },
    "kernelspec": {
      "name": "python3",
      "display_name": "Python 3"
    },
    "language_info": {
      "name": "python"
    },
    "accelerator": "GPU"
  },
  "cells": [
    {
      "cell_type": "code",
      "execution_count": 130,
      "metadata": {
        "colab": {
          "base_uri": "https://localhost:8080/"
        },
        "id": "oIUvtpol2pci",
        "outputId": "1a5b0aec-0602-460f-9752-61e4fb41a7cf"
      },
      "outputs": [
        {
          "output_type": "stream",
          "name": "stdout",
          "text": [
            "Drive already mounted at /content/gdrive; to attempt to forcibly remount, call drive.mount(\"/content/gdrive\", force_remount=True).\n",
            "face.csv\t      faceDataset2\t      model4multiClassfier\n",
            "faceData\t      faceDataWithNumber      model4raceClassfier\n",
            "faceData2D\t      faceDR\t\t      model4sexClassfier\n",
            "faceData2DWithNumber  faceDS\t\t      model4sexClassfierWithoutValid\n",
            "face_Dataset\t      faceLabel.csv\t      rawdata\n",
            "faceDataset\t      model4emotionClassfier  vgg_face_dag.pth\n"
          ]
        }
      ],
      "source": [
        "from google.colab import drive\n",
        "drive.mount(\"/content/gdrive\")\n",
        "!ls \"/content/gdrive/My Drive/data\""
      ]
    },
    {
      "cell_type": "code",
      "source": [
        "import matplotlib.pyplot as plt  # show image\n",
        "import numpy as np\n",
        "import pandas as pd\n",
        "import sys\n",
        "import tensorflow as tf"
      ],
      "metadata": {
        "id": "8zExHIIf6n7V"
      },
      "execution_count": 131,
      "outputs": []
    },
    {
      "cell_type": "code",
      "source": [
        "tf.config.list_physical_devices('GPU')"
      ],
      "metadata": {
        "colab": {
          "base_uri": "https://localhost:8080/"
        },
        "id": "2SlZQETstDrE",
        "outputId": "d80327c3-64e0-47a9-e82b-059671cdf146"
      },
      "execution_count": 132,
      "outputs": [
        {
          "output_type": "execute_result",
          "data": {
            "text/plain": [
              "[PhysicalDevice(name='/physical_device:GPU:0', device_type='GPU')]"
            ]
          },
          "metadata": {},
          "execution_count": 132
        }
      ]
    },
    {
      "cell_type": "code",
      "source": [
        "dtype = np.uint8\n",
        "shape = (128,128)\n",
        "\n",
        "# file_path /content/gdrive/My Drive/data/rawdata/xxxx\n",
        "pre_img_path=\"/content/gdrive/My Drive/data/rawdata/\"\n",
        "pre_path=\"/content/gdrive/My Drive/data/\"\n",
        "\n",
        "# Read the data from the binary file\n",
        "# data = np.fromfile(file_path, dtype=dtype).reshape(shape)"
      ],
      "metadata": {
        "id": "WwGYi2yb5I-8"
      },
      "execution_count": 133,
      "outputs": []
    },
    {
      "cell_type": "code",
      "source": [
        "\n",
        "\n",
        "# def readImage(path):\n",
        "#     with open(path,'rb') as f:\n",
        "#         # print(path)\n",
        "#         data = np.fromfile(f, dtype=np.uint8)\n",
        "#         image_array=np.reshape(data,(128,128))\n",
        "#         return image_array\n",
        "#         # return data\n",
        "    \n",
        "face=pd.read_csv(pre_path+\"faceLabel.csv\")\n",
        "\n",
        "# read image part\n",
        "# new=True\n",
        "# for  i in face[\"number\"]:\n",
        "#     # number=1223\n",
        "#     if new==True:\n",
        "#         path=pre_path+f\"rawdata/{i}\"\n",
        "#         new_element = np.fromfile(path, dtype=dtype).reshape(shape)\n",
        "#         dataset = tf.data.Dataset.from_tensor_slices([new_element])\n",
        "#         new=False\n",
        "#     else:\n",
        "#         path=pre_path+f\"rawdata/{i}\"\n",
        "#         data = np.fromfile(path, dtype=dtype).reshape(shape)\n",
        "#         new_element = tf.data.Dataset.from_tensor_slices([data])\n",
        "#         dataset = dataset.concatenate(new_element)\n",
        "    # if i>1230:\n",
        "    #     break\n",
        "# print(faceData.shape)\n",
        "# faceData.to_pickle(\"faceData2D\") \n",
        "dataset=tf.data.Dataset.load(pre_path+\"faceDataset\")\n",
        "print(dataset)\n",
        "\n",
        "\n",
        "# print(faceData)\n",
        "\n",
        "# plt.imshow(np.reshape(faceData.iloc[0,1],(128,128)), cmap='cividis', vmin=0, vmax=256)\n",
        "# plt.show()"
      ],
      "metadata": {
        "colab": {
          "base_uri": "https://localhost:8080/"
        },
        "id": "X0IWWLmd6iak",
        "outputId": "1ddb69e6-eda2-4c45-9861-82b482d95c9b"
      },
      "execution_count": 134,
      "outputs": [
        {
          "output_type": "stream",
          "name": "stdout",
          "text": [
            "<_LoadDataset element_spec=TensorSpec(shape=(128, 128), dtype=tf.uint8, name=None)>\n"
          ]
        }
      ]
    },
    {
      "cell_type": "code",
      "source": [
        "face.head()"
      ],
      "metadata": {
        "colab": {
          "base_uri": "https://localhost:8080/",
          "height": 206
        },
        "id": "_qIhimK2FMXJ",
        "outputId": "1d859aa8-d3e8-447e-9ef7-72bc018597ad"
      },
      "execution_count": 135,
      "outputs": [
        {
          "output_type": "execute_result",
          "data": {
            "text/plain": [
              "   number   sex    age   race  emotion extra  sex_label  age_adult  age_child  \\\n",
              "0    1223  male  child  white  smiling   NaN          1          0          1   \n",
              "1    1224  male  child  white  serious   NaN          1          0          1   \n",
              "2    1225  male  child  white  smiling   NaN          1          0          1   \n",
              "3    1226  male  child  white  smiling   NaN          1          0          1   \n",
              "4    1227  male  child  white  serious   NaN          1          0          1   \n",
              "\n",
              "   age_senior  age_teen  race_asian  race_black  race_hispanic  race_other  \\\n",
              "0           0         0           0           0              0           0   \n",
              "1           0         0           0           0              0           0   \n",
              "2           0         0           0           0              0           0   \n",
              "3           0         0           0           0              0           0   \n",
              "4           0         0           0           0              0           0   \n",
              "\n",
              "   race_white  emotion_funny  emotion_serious  emotion_smiling  \n",
              "0           1              0                0                1  \n",
              "1           1              0                1                0  \n",
              "2           1              0                0                1  \n",
              "3           1              0                0                1  \n",
              "4           1              0                1                0  "
            ],
            "text/html": [
              "\n",
              "  <div id=\"df-72fc1cdd-4e34-490c-b1c5-eb155f1575a7\">\n",
              "    <div class=\"colab-df-container\">\n",
              "      <div>\n",
              "<style scoped>\n",
              "    .dataframe tbody tr th:only-of-type {\n",
              "        vertical-align: middle;\n",
              "    }\n",
              "\n",
              "    .dataframe tbody tr th {\n",
              "        vertical-align: top;\n",
              "    }\n",
              "\n",
              "    .dataframe thead th {\n",
              "        text-align: right;\n",
              "    }\n",
              "</style>\n",
              "<table border=\"1\" class=\"dataframe\">\n",
              "  <thead>\n",
              "    <tr style=\"text-align: right;\">\n",
              "      <th></th>\n",
              "      <th>number</th>\n",
              "      <th>sex</th>\n",
              "      <th>age</th>\n",
              "      <th>race</th>\n",
              "      <th>emotion</th>\n",
              "      <th>extra</th>\n",
              "      <th>sex_label</th>\n",
              "      <th>age_adult</th>\n",
              "      <th>age_child</th>\n",
              "      <th>age_senior</th>\n",
              "      <th>age_teen</th>\n",
              "      <th>race_asian</th>\n",
              "      <th>race_black</th>\n",
              "      <th>race_hispanic</th>\n",
              "      <th>race_other</th>\n",
              "      <th>race_white</th>\n",
              "      <th>emotion_funny</th>\n",
              "      <th>emotion_serious</th>\n",
              "      <th>emotion_smiling</th>\n",
              "    </tr>\n",
              "  </thead>\n",
              "  <tbody>\n",
              "    <tr>\n",
              "      <th>0</th>\n",
              "      <td>1223</td>\n",
              "      <td>male</td>\n",
              "      <td>child</td>\n",
              "      <td>white</td>\n",
              "      <td>smiling</td>\n",
              "      <td>NaN</td>\n",
              "      <td>1</td>\n",
              "      <td>0</td>\n",
              "      <td>1</td>\n",
              "      <td>0</td>\n",
              "      <td>0</td>\n",
              "      <td>0</td>\n",
              "      <td>0</td>\n",
              "      <td>0</td>\n",
              "      <td>0</td>\n",
              "      <td>1</td>\n",
              "      <td>0</td>\n",
              "      <td>0</td>\n",
              "      <td>1</td>\n",
              "    </tr>\n",
              "    <tr>\n",
              "      <th>1</th>\n",
              "      <td>1224</td>\n",
              "      <td>male</td>\n",
              "      <td>child</td>\n",
              "      <td>white</td>\n",
              "      <td>serious</td>\n",
              "      <td>NaN</td>\n",
              "      <td>1</td>\n",
              "      <td>0</td>\n",
              "      <td>1</td>\n",
              "      <td>0</td>\n",
              "      <td>0</td>\n",
              "      <td>0</td>\n",
              "      <td>0</td>\n",
              "      <td>0</td>\n",
              "      <td>0</td>\n",
              "      <td>1</td>\n",
              "      <td>0</td>\n",
              "      <td>1</td>\n",
              "      <td>0</td>\n",
              "    </tr>\n",
              "    <tr>\n",
              "      <th>2</th>\n",
              "      <td>1225</td>\n",
              "      <td>male</td>\n",
              "      <td>child</td>\n",
              "      <td>white</td>\n",
              "      <td>smiling</td>\n",
              "      <td>NaN</td>\n",
              "      <td>1</td>\n",
              "      <td>0</td>\n",
              "      <td>1</td>\n",
              "      <td>0</td>\n",
              "      <td>0</td>\n",
              "      <td>0</td>\n",
              "      <td>0</td>\n",
              "      <td>0</td>\n",
              "      <td>0</td>\n",
              "      <td>1</td>\n",
              "      <td>0</td>\n",
              "      <td>0</td>\n",
              "      <td>1</td>\n",
              "    </tr>\n",
              "    <tr>\n",
              "      <th>3</th>\n",
              "      <td>1226</td>\n",
              "      <td>male</td>\n",
              "      <td>child</td>\n",
              "      <td>white</td>\n",
              "      <td>smiling</td>\n",
              "      <td>NaN</td>\n",
              "      <td>1</td>\n",
              "      <td>0</td>\n",
              "      <td>1</td>\n",
              "      <td>0</td>\n",
              "      <td>0</td>\n",
              "      <td>0</td>\n",
              "      <td>0</td>\n",
              "      <td>0</td>\n",
              "      <td>0</td>\n",
              "      <td>1</td>\n",
              "      <td>0</td>\n",
              "      <td>0</td>\n",
              "      <td>1</td>\n",
              "    </tr>\n",
              "    <tr>\n",
              "      <th>4</th>\n",
              "      <td>1227</td>\n",
              "      <td>male</td>\n",
              "      <td>child</td>\n",
              "      <td>white</td>\n",
              "      <td>serious</td>\n",
              "      <td>NaN</td>\n",
              "      <td>1</td>\n",
              "      <td>0</td>\n",
              "      <td>1</td>\n",
              "      <td>0</td>\n",
              "      <td>0</td>\n",
              "      <td>0</td>\n",
              "      <td>0</td>\n",
              "      <td>0</td>\n",
              "      <td>0</td>\n",
              "      <td>1</td>\n",
              "      <td>0</td>\n",
              "      <td>1</td>\n",
              "      <td>0</td>\n",
              "    </tr>\n",
              "  </tbody>\n",
              "</table>\n",
              "</div>\n",
              "      <button class=\"colab-df-convert\" onclick=\"convertToInteractive('df-72fc1cdd-4e34-490c-b1c5-eb155f1575a7')\"\n",
              "              title=\"Convert this dataframe to an interactive table.\"\n",
              "              style=\"display:none;\">\n",
              "        \n",
              "  <svg xmlns=\"http://www.w3.org/2000/svg\" height=\"24px\"viewBox=\"0 0 24 24\"\n",
              "       width=\"24px\">\n",
              "    <path d=\"M0 0h24v24H0V0z\" fill=\"none\"/>\n",
              "    <path d=\"M18.56 5.44l.94 2.06.94-2.06 2.06-.94-2.06-.94-.94-2.06-.94 2.06-2.06.94zm-11 1L8.5 8.5l.94-2.06 2.06-.94-2.06-.94L8.5 2.5l-.94 2.06-2.06.94zm10 10l.94 2.06.94-2.06 2.06-.94-2.06-.94-.94-2.06-.94 2.06-2.06.94z\"/><path d=\"M17.41 7.96l-1.37-1.37c-.4-.4-.92-.59-1.43-.59-.52 0-1.04.2-1.43.59L10.3 9.45l-7.72 7.72c-.78.78-.78 2.05 0 2.83L4 21.41c.39.39.9.59 1.41.59.51 0 1.02-.2 1.41-.59l7.78-7.78 2.81-2.81c.8-.78.8-2.07 0-2.86zM5.41 20L4 18.59l7.72-7.72 1.47 1.35L5.41 20z\"/>\n",
              "  </svg>\n",
              "      </button>\n",
              "      \n",
              "  <style>\n",
              "    .colab-df-container {\n",
              "      display:flex;\n",
              "      flex-wrap:wrap;\n",
              "      gap: 12px;\n",
              "    }\n",
              "\n",
              "    .colab-df-convert {\n",
              "      background-color: #E8F0FE;\n",
              "      border: none;\n",
              "      border-radius: 50%;\n",
              "      cursor: pointer;\n",
              "      display: none;\n",
              "      fill: #1967D2;\n",
              "      height: 32px;\n",
              "      padding: 0 0 0 0;\n",
              "      width: 32px;\n",
              "    }\n",
              "\n",
              "    .colab-df-convert:hover {\n",
              "      background-color: #E2EBFA;\n",
              "      box-shadow: 0px 1px 2px rgba(60, 64, 67, 0.3), 0px 1px 3px 1px rgba(60, 64, 67, 0.15);\n",
              "      fill: #174EA6;\n",
              "    }\n",
              "\n",
              "    [theme=dark] .colab-df-convert {\n",
              "      background-color: #3B4455;\n",
              "      fill: #D2E3FC;\n",
              "    }\n",
              "\n",
              "    [theme=dark] .colab-df-convert:hover {\n",
              "      background-color: #434B5C;\n",
              "      box-shadow: 0px 1px 3px 1px rgba(0, 0, 0, 0.15);\n",
              "      filter: drop-shadow(0px 1px 2px rgba(0, 0, 0, 0.3));\n",
              "      fill: #FFFFFF;\n",
              "    }\n",
              "  </style>\n",
              "\n",
              "      <script>\n",
              "        const buttonEl =\n",
              "          document.querySelector('#df-72fc1cdd-4e34-490c-b1c5-eb155f1575a7 button.colab-df-convert');\n",
              "        buttonEl.style.display =\n",
              "          google.colab.kernel.accessAllowed ? 'block' : 'none';\n",
              "\n",
              "        async function convertToInteractive(key) {\n",
              "          const element = document.querySelector('#df-72fc1cdd-4e34-490c-b1c5-eb155f1575a7');\n",
              "          const dataTable =\n",
              "            await google.colab.kernel.invokeFunction('convertToInteractive',\n",
              "                                                     [key], {});\n",
              "          if (!dataTable) return;\n",
              "\n",
              "          const docLinkHtml = 'Like what you see? Visit the ' +\n",
              "            '<a target=\"_blank\" href=https://colab.research.google.com/notebooks/data_table.ipynb>data table notebook</a>'\n",
              "            + ' to learn more about interactive tables.';\n",
              "          element.innerHTML = '';\n",
              "          dataTable['output_type'] = 'display_data';\n",
              "          await google.colab.output.renderOutput(dataTable, element);\n",
              "          const docLink = document.createElement('div');\n",
              "          docLink.innerHTML = docLinkHtml;\n",
              "          element.appendChild(docLink);\n",
              "        }\n",
              "      </script>\n",
              "    </div>\n",
              "  </div>\n",
              "  "
            ]
          },
          "metadata": {},
          "execution_count": 135
        }
      ]
    },
    {
      "cell_type": "code",
      "source": [
        "# tf.data.experimental.save(dataset, pre_path+\"faceDataset\")"
      ],
      "metadata": {
        "id": "0vFLXZ9G1Bxg"
      },
      "execution_count": 136,
      "outputs": []
    },
    {
      "cell_type": "code",
      "source": [
        "num_elements = tf.data.experimental.cardinality(dataset).numpy()\n",
        "\n",
        "print(f\"The concatenated dataset has {num_elements} elements.\")"
      ],
      "metadata": {
        "colab": {
          "base_uri": "https://localhost:8080/"
        },
        "id": "-x3lvfT8AVrF",
        "outputId": "d4ba3ddb-7647-4a90-80a2-790029454b78"
      },
      "execution_count": 137,
      "outputs": [
        {
          "output_type": "stream",
          "name": "stdout",
          "text": [
            "The concatenated dataset has 3993 elements.\n"
          ]
        }
      ]
    },
    {
      "cell_type": "code",
      "source": [
        "def convert_image(image):\n",
        "    image = tf.expand_dims(image, axis=0)\n",
        "    image = tf.expand_dims(image, axis=-1)\n",
        "    return tf.tile(image, [1, 1, 1, 3])\n",
        "dataset_ = dataset.map(convert_image)"
      ],
      "metadata": {
        "id": "kqC9S03zvY0P"
      },
      "execution_count": 138,
      "outputs": []
    },
    {
      "cell_type": "code",
      "source": [
        "print(dataset_)"
      ],
      "metadata": {
        "colab": {
          "base_uri": "https://localhost:8080/"
        },
        "id": "m1l84hrIv5GR",
        "outputId": "f8892ac4-197e-4566-af41-672439b3c313"
      },
      "execution_count": 139,
      "outputs": [
        {
          "output_type": "stream",
          "name": "stdout",
          "text": [
            "<_MapDataset element_spec=TensorSpec(shape=(1, 128, 128, 3), dtype=tf.uint8, name=None)>\n"
          ]
        }
      ]
    },
    {
      "cell_type": "code",
      "source": [
        "# def add_batch_dimension(image):\n",
        "#     return tf.expand_dims(image, axis=0)\n",
        "# dataset_ = dataset_.map(convert_image)"
      ],
      "metadata": {
        "id": "20ClJ74Mw1ZM"
      },
      "execution_count": 140,
      "outputs": []
    },
    {
      "cell_type": "code",
      "source": [
        "# convert dataframe to tensor\n",
        "# label_tensor=tf.convert_to_tensor(face[\"sex_label\"].values)\n",
        "# label_tensor=tf.convert_to_tensor(face[[\"sex_label\",\"age_adult\",\"age_child\",\"age_senior\",\"age_teen\",\"race_asian\",\"race_black\",\"race_hispanic\",\"race_other\",\"race_white\",\"emotion_funny\",\"emotion_serious\",\"emotion_smiling\"]].values)\n",
        "# label_tensor=tf.convert_to_tensor(face[[\"race_asian\",\"race_black\",\"race_hispanic\",\"race_other\",\"race_white\"]].values)\n",
        "# label_tensor=tf.convert_to_tensor(face[[\"emotion_funny\",\"emotion_serious\",\"emotion_smiling\"]].values)\n",
        "# label_tensor=tf.convert_to_tensor(face[[\"age_adult\",\"age_child\",\"age_senior\",\"age_teen\"]].values)\n",
        "label_tensor=tf.convert_to_tensor(face[[\"sex_label\",\"race_black\",\"race_hispanic\",\"race_other\",\"race_white\",\"emotion_funny\",\"emotion_serious\",\"emotion_smiling\"]].values)"
      ],
      "metadata": {
        "id": "yJEdPIvNlIpA"
      },
      "execution_count": 141,
      "outputs": []
    },
    {
      "cell_type": "code",
      "source": [
        "num_out_put=label_tensor.shape[1]\n",
        "print(label_tensor)"
      ],
      "metadata": {
        "colab": {
          "base_uri": "https://localhost:8080/"
        },
        "id": "lqHRY-8jJtoK",
        "outputId": "269cde83-8f8e-406f-b4e1-92bcaf0b3df5"
      },
      "execution_count": 142,
      "outputs": [
        {
          "output_type": "stream",
          "name": "stdout",
          "text": [
            "tf.Tensor(\n",
            "[[1 0 0 ... 0 0 1]\n",
            " [1 0 0 ... 0 1 0]\n",
            " [1 0 0 ... 0 0 1]\n",
            " ...\n",
            " [0 0 0 ... 0 1 0]\n",
            " [0 0 0 ... 0 0 1]\n",
            " [0 0 0 ... 0 0 1]], shape=(3993, 8), dtype=int64)\n"
          ]
        }
      ]
    },
    {
      "cell_type": "code",
      "source": [
        "label_tensor_=tf.data.Dataset.from_tensor_slices(label_tensor)"
      ],
      "metadata": {
        "id": "VFnOyym3ozYI"
      },
      "execution_count": 143,
      "outputs": []
    },
    {
      "cell_type": "code",
      "source": [
        "label_tensor_=tf.reshape(label_tensor,(num_elements,1,num_out_put))\n",
        "label_tensor__=tf.data.Dataset.from_tensor_slices(label_tensor_)"
      ],
      "metadata": {
        "id": "COyn4kRaGt1e"
      },
      "execution_count": 144,
      "outputs": []
    },
    {
      "cell_type": "code",
      "source": [
        "# merge label and data\n",
        "data_=tf.data.Dataset.zip((dataset_,label_tensor__))\n",
        "# data_=tf.stack([dataset,label_tensor_.take(8)])"
      ],
      "metadata": {
        "id": "aYUVKXT1lLKP"
      },
      "execution_count": 145,
      "outputs": []
    },
    {
      "cell_type": "code",
      "source": [
        "# tf.data.experimental.save(data_, pre_path+\"face_Dataset\")"
      ],
      "metadata": {
        "id": "-IBL_hHr1nKD"
      },
      "execution_count": 146,
      "outputs": []
    },
    {
      "cell_type": "code",
      "source": [
        "print(data_)"
      ],
      "metadata": {
        "colab": {
          "base_uri": "https://localhost:8080/"
        },
        "id": "pLzxWs34qzAq",
        "outputId": "0996e230-9d5b-4d6a-c048-500959d221e1"
      },
      "execution_count": 147,
      "outputs": [
        {
          "output_type": "stream",
          "name": "stdout",
          "text": [
            "<_ZipDataset element_spec=(TensorSpec(shape=(1, 128, 128, 3), dtype=tf.uint8, name=None), TensorSpec(shape=(1, 8), dtype=tf.int64, name=None))>\n"
          ]
        }
      ]
    },
    {
      "cell_type": "code",
      "source": [
        "# split train and test sets\n",
        "# 计算训练集大小（例如，80% 的数据用于训练）\n",
        "train_size = int(num_elements * 0.8)\n",
        "\n",
        "# 使用 take 方法获取训练集\n",
        "ds_train_ = data_.take(train_size)\n",
        "\n",
        "# 使用 skip 方法获取测试集\n",
        "ds_valid_ = data_.skip(train_size)"
      ],
      "metadata": {
        "id": "PD8y7OORl_HZ"
      },
      "execution_count": 148,
      "outputs": []
    },
    {
      "cell_type": "code",
      "source": [
        "print(ds_valid_)"
      ],
      "metadata": {
        "colab": {
          "base_uri": "https://localhost:8080/"
        },
        "id": "ckq5Gp_6jQL-",
        "outputId": "f3f17591-6f08-4c3c-c4d1-ea097a942264"
      },
      "execution_count": 149,
      "outputs": [
        {
          "output_type": "stream",
          "name": "stdout",
          "text": [
            "<_SkipDataset element_spec=(TensorSpec(shape=(1, 128, 128, 3), dtype=tf.uint8, name=None), TensorSpec(shape=(1, 8), dtype=tf.int64, name=None))>\n"
          ]
        }
      ]
    },
    {
      "cell_type": "code",
      "source": [
        "# Data Pipeline\n",
        "def convert_to_float(image,label ):\n",
        "    image = tf.image.convert_image_dtype(image, dtype=tf.float32)\n",
        "    return image, label\n",
        "\n",
        "AUTOTUNE = tf.data.experimental.AUTOTUNE\n",
        "ds_train = (\n",
        "    ds_train_\n",
        "    .map(convert_to_float)\n",
        "    .cache()\n",
        "    .prefetch(buffer_size=AUTOTUNE)\n",
        ")\n",
        "ds_valid = (\n",
        "    ds_valid_\n",
        "    .map(convert_to_float)\n",
        "    .cache()\n",
        "    .prefetch(buffer_size=AUTOTUNE)\n",
        ")"
      ],
      "metadata": {
        "id": "wtjNfIRobda1"
      },
      "execution_count": 150,
      "outputs": []
    },
    {
      "cell_type": "code",
      "source": [
        "ds_train"
      ],
      "metadata": {
        "id": "CkGSS-JydGwX",
        "colab": {
          "base_uri": "https://localhost:8080/"
        },
        "outputId": "517737a9-33cb-4158-ca56-91de598e7a93"
      },
      "execution_count": 151,
      "outputs": [
        {
          "output_type": "execute_result",
          "data": {
            "text/plain": [
              "<_PrefetchDataset element_spec=(TensorSpec(shape=(1, 128, 128, 3), dtype=tf.float32, name=None), TensorSpec(shape=(1, 8), dtype=tf.int64, name=None))>"
            ]
          },
          "metadata": {},
          "execution_count": 151
        }
      ]
    },
    {
      "cell_type": "code",
      "source": [
        "# ds_valid\n",
        "num_elements1 = tf.data.experimental.cardinality(ds_train_).numpy()\n",
        "\n",
        "print(f\"The concatenated ds_train has {num_elements1} elements.\")"
      ],
      "metadata": {
        "colab": {
          "base_uri": "https://localhost:8080/"
        },
        "id": "xbrG2NMvcgzp",
        "outputId": "62c87ee7-af22-4d62-c869-c9b67b917c61"
      },
      "execution_count": 152,
      "outputs": [
        {
          "output_type": "stream",
          "name": "stdout",
          "text": [
            "The concatenated ds_train has 3194 elements.\n"
          ]
        }
      ]
    },
    {
      "cell_type": "markdown",
      "source": [
        "The **InceptionV1** model pretrained on ImageNet is available in the [TensorFlow Hub](https://www.tensorflow.org/hub/) repository, but we'll load it from a local copy. Run this cell to load InceptionV1 for your base."
      ],
      "metadata": {
        "id": "Miq5jZLC5Nw2"
      }
    },
    {
      "cell_type": "code",
      "source": [
        "# !pip install mmdnn"
      ],
      "metadata": {
        "id": "iIbD-yQsQwiq"
      },
      "execution_count": 153,
      "outputs": []
    },
    {
      "cell_type": "code",
      "source": [
        "# !mmconvert -sf pytorch -in http://www.robots.ox.ac.uk/~albanie/models/pytorch-mcn/vgg_face_dag.pth -df tensorflow -om /content/gdrive/data/vgg_face.pb   "
      ],
      "metadata": {
        "id": "fd0haOq-Q0du"
      },
      "execution_count": 154,
      "outputs": []
    },
    {
      "cell_type": "code",
      "source": [
        "import tensorflow_hub as hub\n",
        "\n",
        "# pretrained_base = tf.keras.models.load_model(\n",
        "#     '/content/gdrive/My Drive/data/vgg_face.pb'\n",
        "# )\n",
        "# pretrained_base = hub.KerasLayer(\"https://tfhub.dev/google/imagenet/inception_resnet_v2/classification/5\")\n",
        "pretrained_base = hub.KerasLayer(\"https://tfhub.dev/google/imagenet/inception_v1/classification/5\")"
      ],
      "metadata": {
        "lines_to_next_cell": 0,
        "execution": {
          "iopub.status.busy": "2023-05-16T12:53:35.931707Z",
          "iopub.execute_input": "2023-05-16T12:53:35.932259Z",
          "iopub.status.idle": "2023-05-16T12:53:42.358947Z",
          "shell.execute_reply.started": "2023-05-16T12:53:35.932218Z",
          "shell.execute_reply": "2023-05-16T12:53:42.357860Z"
        },
        "trusted": true,
        "id": "ZI7399pz5Nw2"
      },
      "execution_count": 155,
      "outputs": []
    },
    {
      "cell_type": "markdown",
      "source": [
        "# 1) Define Pretrained Base #\n",
        "\n",
        "Now that you have a pretrained base to do our feature extraction, decide whether this base should be trainable or not."
      ],
      "metadata": {
        "id": "_jethAkc5Nw2"
      }
    },
    {
      "cell_type": "code",
      "source": [
        "# YOUR_CODE_HERE\n",
        "pretrained_base.trainable = False\n",
        "\n"
      ],
      "metadata": {
        "lines_to_next_cell": 0,
        "execution": {
          "iopub.status.busy": "2023-05-16T12:55:03.339427Z",
          "iopub.execute_input": "2023-05-16T12:55:03.339917Z",
          "iopub.status.idle": "2023-05-16T12:55:03.352259Z",
          "shell.execute_reply.started": "2023-05-16T12:55:03.339861Z",
          "shell.execute_reply": "2023-05-16T12:55:03.351273Z"
        },
        "trusted": true,
        "id": "LiuMptJt5Nw2"
      },
      "execution_count": 156,
      "outputs": []
    },
    {
      "cell_type": "code",
      "source": [
        "# Lines below will give you a hint or solution code\n",
        "#q_1.hint()\n",
        "#q_1.solution()"
      ],
      "metadata": {
        "id": "BkBobfT45Nw3"
      },
      "execution_count": 157,
      "outputs": []
    },
    {
      "cell_type": "markdown",
      "source": [
        "# 2) Attach Head #\n",
        "\n",
        "Now that the base is defined to do the feature extraction, create a head of `Dense` layers to perform the classification, following this diagram:\n",
        "\n",
        "<figure>\n",
        "<img src=\"https://storage.googleapis.com/kaggle-media/learn/images/i5VU7Ry.png\" alt=\"Diagram of the dense head.\">\n",
        "</figure>\n"
      ],
      "metadata": {
        "id": "Ui8Rj79F5Nw3"
      }
    },
    {
      "cell_type": "code",
      "source": [
        "from tensorflow import keras\n",
        "from tensorflow.keras import layers\n",
        "\n",
        "model = keras.Sequential([\n",
        "    pretrained_base,\n",
        "    layers.Flatten(),\n",
        "    layers.Dropout(0.1),\n",
        "    layers.Dense(50*num_out_put, activation='relu'),\n",
        "    layers.Dropout(0.1),\n",
        "    layers.Dense(12*num_out_put, activation='relu'),\n",
        "    layers.Dropout(0.2),\n",
        "    layers.Dense(num_out_put, activation='sigmoid'),\n",
        "])\n"
      ],
      "metadata": {
        "lines_to_next_cell": 0,
        "execution": {
          "iopub.status.busy": "2023-05-16T12:57:37.306235Z",
          "iopub.execute_input": "2023-05-16T12:57:37.306604Z",
          "iopub.status.idle": "2023-05-16T12:57:37.332197Z",
          "shell.execute_reply.started": "2023-05-16T12:57:37.306574Z",
          "shell.execute_reply": "2023-05-16T12:57:37.331264Z"
        },
        "trusted": true,
        "id": "8muuR-yz5Nw3"
      },
      "execution_count": 162,
      "outputs": []
    },
    {
      "cell_type": "markdown",
      "source": [
        "# 3) Train #\n",
        "\n",
        "Before training a model in Keras, you need to specify an *optimizer* to perform the gradient descent, a *loss function* to be minimized, and (optionally) any *performance metrics*. The optimization algorithm we'll use for this course is called [\"Adam\"](https://keras.io/api/optimizers/adam/), which generally performs well regardless of what kind of problem you're trying to solve.\n",
        "\n",
        "The loss and the metrics, however, need to match the kind of problem you're trying to solve. Our problem is a **binary classification** problem: `Car` coded as 0, and `Truck` coded as 1. Choose an appropriate loss and an appropriate accuracy metric for binary classification."
      ],
      "metadata": {
        "id": "8HGG7m-d5Nw4"
      }
    },
    {
      "cell_type": "code",
      "source": [
        "# YOUR CODE HERE: what loss function should you use for a binary\n",
        "# classification problem? (Your answer for each should be a string.)\n",
        "# optimizer = tf.keras.optimizers.Adam(epsilon=0.01)\n",
        "model.compile(\n",
        "    optimizer=\"adam\",\n",
        "    loss='binary_crossentropy',\n",
        "    metrics=['accuracy'],\n",
        ")\n",
        "\n"
      ],
      "metadata": {
        "lines_to_next_cell": 0,
        "execution": {
          "iopub.status.busy": "2023-05-16T12:58:57.504722Z",
          "iopub.execute_input": "2023-05-16T12:58:57.505119Z",
          "iopub.status.idle": "2023-05-16T12:58:57.537948Z",
          "shell.execute_reply.started": "2023-05-16T12:58:57.505065Z",
          "shell.execute_reply": "2023-05-16T12:58:57.536937Z"
        },
        "trusted": true,
        "id": "7e_nGQBc5Nw4"
      },
      "execution_count": 163,
      "outputs": []
    },
    {
      "cell_type": "code",
      "source": [
        "from tensorflow.keras.callbacks import ModelCheckpoint,EarlyStopping\n",
        "checkpoint = ModelCheckpoint('model-{epoch:02d}.h5', save_weights_only=True)\n",
        "early_stopping = EarlyStopping(monitor='val_loss', patience=15,restore_best_weights=True)"
      ],
      "metadata": {
        "id": "JiylYAKuh4gy"
      },
      "execution_count": 165,
      "outputs": []
    },
    {
      "cell_type": "code",
      "source": [
        "history = model.fit(\n",
        "    ds_train,\n",
        "    validation_data=ds_valid,\n",
        "    epochs=200,\n",
        "    callbacks=[checkpoint,early_stopping]\n",
        ")"
      ],
      "metadata": {
        "execution": {
          "iopub.status.busy": "2023-05-16T12:59:00.842917Z",
          "iopub.execute_input": "2023-05-16T12:59:00.843631Z",
          "iopub.status.idle": "2023-05-16T13:01:58.432963Z",
          "shell.execute_reply.started": "2023-05-16T12:59:00.843595Z",
          "shell.execute_reply": "2023-05-16T13:01:58.431540Z"
        },
        "trusted": true,
        "colab": {
          "base_uri": "https://localhost:8080/"
        },
        "id": "PqZ2KI6A5Nw4",
        "outputId": "1d5ccb40-bf7c-47e0-8865-c697159ca904"
      },
      "execution_count": 166,
      "outputs": [
        {
          "output_type": "stream",
          "name": "stdout",
          "text": [
            "Epoch 1/200\n",
            "3194/3194 [==============================] - 34s 10ms/step - loss: 0.3236 - accuracy: 0.5235 - val_loss: 0.4238 - val_accuracy: 0.1615\n",
            "Epoch 2/200\n",
            "3194/3194 [==============================] - 33s 10ms/step - loss: 0.3102 - accuracy: 0.4483 - val_loss: 0.3478 - val_accuracy: 0.3342\n",
            "Epoch 3/200\n",
            "3194/3194 [==============================] - 30s 10ms/step - loss: 0.3100 - accuracy: 0.4496 - val_loss: 0.3850 - val_accuracy: 0.3066\n",
            "Epoch 4/200\n",
            "3194/3194 [==============================] - 30s 9ms/step - loss: 0.3047 - accuracy: 0.4314 - val_loss: 0.3560 - val_accuracy: 0.2866\n",
            "Epoch 5/200\n",
            "3194/3194 [==============================] - 30s 9ms/step - loss: 0.3003 - accuracy: 0.3986 - val_loss: 0.3433 - val_accuracy: 0.3016\n",
            "Epoch 6/200\n",
            "3194/3194 [==============================] - 30s 9ms/step - loss: 0.3047 - accuracy: 0.4433 - val_loss: 0.4125 - val_accuracy: 0.3066\n",
            "Epoch 7/200\n",
            "3194/3194 [==============================] - 31s 10ms/step - loss: 0.2907 - accuracy: 0.4512 - val_loss: 0.3206 - val_accuracy: 0.3242\n",
            "Epoch 8/200\n",
            "3194/3194 [==============================] - 31s 10ms/step - loss: 0.2811 - accuracy: 0.4656 - val_loss: 0.3515 - val_accuracy: 0.3116\n",
            "Epoch 9/200\n",
            "3194/3194 [==============================] - 30s 10ms/step - loss: 0.2721 - accuracy: 0.4828 - val_loss: 0.3362 - val_accuracy: 0.5194\n",
            "Epoch 10/200\n",
            "3194/3194 [==============================] - 32s 10ms/step - loss: 0.2699 - accuracy: 0.5513 - val_loss: 0.3493 - val_accuracy: 0.3680\n",
            "Epoch 11/200\n",
            "3194/3194 [==============================] - 31s 10ms/step - loss: 0.2685 - accuracy: 0.5632 - val_loss: 0.2915 - val_accuracy: 0.6270\n",
            "Epoch 12/200\n",
            "3194/3194 [==============================] - 30s 9ms/step - loss: 0.2592 - accuracy: 0.5542 - val_loss: 0.3128 - val_accuracy: 0.4693\n",
            "Epoch 13/200\n",
            "3194/3194 [==============================] - 30s 9ms/step - loss: 0.2540 - accuracy: 0.5717 - val_loss: 0.2955 - val_accuracy: 0.5382\n",
            "Epoch 14/200\n",
            "3194/3194 [==============================] - 31s 10ms/step - loss: 0.2587 - accuracy: 0.5144 - val_loss: 0.2927 - val_accuracy: 0.6283\n",
            "Epoch 15/200\n",
            "3194/3194 [==============================] - 30s 9ms/step - loss: 0.2563 - accuracy: 0.5338 - val_loss: 0.2854 - val_accuracy: 0.6033\n",
            "Epoch 16/200\n",
            "3194/3194 [==============================] - 30s 9ms/step - loss: 0.2660 - accuracy: 0.4894 - val_loss: 0.2892 - val_accuracy: 0.6008\n",
            "Epoch 17/200\n",
            "3194/3194 [==============================] - 30s 10ms/step - loss: 0.2462 - accuracy: 0.5526 - val_loss: 0.2863 - val_accuracy: 0.5857\n",
            "Epoch 18/200\n",
            "3194/3194 [==============================] - 31s 10ms/step - loss: 0.2462 - accuracy: 0.5438 - val_loss: 0.2813 - val_accuracy: 0.5945\n",
            "Epoch 19/200\n",
            "3194/3194 [==============================] - 37s 12ms/step - loss: 0.2429 - accuracy: 0.5441 - val_loss: 0.3079 - val_accuracy: 0.5257\n",
            "Epoch 20/200\n",
            "3194/3194 [==============================] - 30s 9ms/step - loss: 0.2444 - accuracy: 0.5999 - val_loss: 0.3095 - val_accuracy: 0.6708\n",
            "Epoch 21/200\n",
            "3194/3194 [==============================] - 31s 10ms/step - loss: 0.2436 - accuracy: 0.5977 - val_loss: 0.2933 - val_accuracy: 0.5982\n",
            "Epoch 22/200\n",
            "3194/3194 [==============================] - 31s 10ms/step - loss: 0.2426 - accuracy: 0.6177 - val_loss: 0.3000 - val_accuracy: 0.5419\n",
            "Epoch 23/200\n",
            "3194/3194 [==============================] - 31s 10ms/step - loss: 0.2435 - accuracy: 0.5573 - val_loss: 0.2976 - val_accuracy: 0.5244\n",
            "Epoch 24/200\n",
            "3194/3194 [==============================] - 30s 9ms/step - loss: 0.2421 - accuracy: 0.5770 - val_loss: 0.2998 - val_accuracy: 0.6070\n",
            "Epoch 25/200\n",
            "3194/3194 [==============================] - 30s 9ms/step - loss: 0.2430 - accuracy: 0.5567 - val_loss: 0.3095 - val_accuracy: 0.5519\n",
            "Epoch 26/200\n",
            "3194/3194 [==============================] - 30s 9ms/step - loss: 0.2423 - accuracy: 0.5344 - val_loss: 0.2957 - val_accuracy: 0.5970\n",
            "Epoch 27/200\n",
            "3194/3194 [==============================] - 30s 9ms/step - loss: 0.2332 - accuracy: 0.5316 - val_loss: 0.3132 - val_accuracy: 0.4856\n",
            "Epoch 28/200\n",
            "3194/3194 [==============================] - 32s 10ms/step - loss: 0.2397 - accuracy: 0.4737 - val_loss: 0.3253 - val_accuracy: 0.4343\n",
            "Epoch 29/200\n",
            "3194/3194 [==============================] - 31s 10ms/step - loss: 0.2354 - accuracy: 0.5254 - val_loss: 0.3109 - val_accuracy: 0.5820\n",
            "Epoch 30/200\n",
            "3194/3194 [==============================] - 30s 10ms/step - loss: 0.2441 - accuracy: 0.5081 - val_loss: 0.2949 - val_accuracy: 0.5081\n",
            "Epoch 31/200\n",
            "3194/3194 [==============================] - 30s 9ms/step - loss: 0.2352 - accuracy: 0.5507 - val_loss: 0.3081 - val_accuracy: 0.5807\n",
            "Epoch 32/200\n",
            "3194/3194 [==============================] - 30s 10ms/step - loss: 0.2365 - accuracy: 0.5219 - val_loss: 0.2943 - val_accuracy: 0.5357\n",
            "Epoch 33/200\n",
            "3194/3194 [==============================] - 30s 9ms/step - loss: 0.2408 - accuracy: 0.5344 - val_loss: 0.3246 - val_accuracy: 0.4856\n"
          ]
        }
      ]
    },
    {
      "cell_type": "code",
      "source": [
        "model.summary()"
      ],
      "metadata": {
        "id": "DF_r3E1imoFd"
      },
      "execution_count": null,
      "outputs": []
    },
    {
      "cell_type": "markdown",
      "source": [
        "Run the cell below to plot the loss and metric curves for this training run."
      ],
      "metadata": {
        "id": "2eGtsDuy5Nw4"
      }
    },
    {
      "cell_type": "code",
      "source": [
        "import pandas as pd\n",
        "history_frame = pd.DataFrame(history.history)\n",
        "history_frame.loc[:, ['loss', 'val_loss']].plot()\n",
        "history_frame.loc[:, ['accuracy', 'val_accuracy']].plot();"
      ],
      "metadata": {
        "execution": {
          "iopub.status.busy": "2023-05-16T13:02:11.252892Z",
          "iopub.execute_input": "2023-05-16T13:02:11.253292Z",
          "iopub.status.idle": "2023-05-16T13:02:12.179823Z",
          "shell.execute_reply.started": "2023-05-16T13:02:11.253258Z",
          "shell.execute_reply": "2023-05-16T13:02:12.178783Z"
        },
        "trusted": true,
        "id": "0B8D0dj25Nw4",
        "colab": {
          "base_uri": "https://localhost:8080/",
          "height": 843
        },
        "outputId": "979b6a29-4f52-4019-a5e2-514e888add39"
      },
      "execution_count": 167,
      "outputs": [
        {
          "output_type": "display_data",
          "data": {
            "text/plain": [
              "<Figure size 640x480 with 1 Axes>"
            ],
            "image/png": "[encoded data removed]"
          },
          "metadata": {}
        },
        {
          "output_type": "display_data",
          "data": {
            "text/plain": [
              "<Figure size 640x480 with 1 Axes>"
            ],
            "image/png": "[encoded data removed]"
          },
          "metadata": {}
        }
      ]
    },
    {
      "cell_type": "code",
      "source": [
        "# model.predict(ds_valid)"
      ],
      "metadata": {
        "id": "tn4-I7XBlaFi"
      },
      "execution_count": null,
      "outputs": []
    },
    {
      "cell_type": "code",
      "source": [
        "for layer in model.layers:\n",
        "  if isinstance(layer,layers.Dense):\n",
        "    print((layer.get_weights()))\n",
        "    break\n",
        "    # print(layer)\n"
      ],
      "metadata": {
        "id": "AGSO2DXdoDSI"
      },
      "execution_count": null,
      "outputs": []
    },
    {
      "cell_type": "code",
      "source": [
        "i=0\n",
        "for e in ds_valid:\n",
        "  # print(e[1])\n",
        "  # print(e[0])\n",
        "  # prediction=model.predict(e[0])\n",
        "  # print(prediction)\n",
        "  # print([1 if i>0.5 else 0 for i in l ])\n",
        "  i+=1\n",
        "  if i>230:\n",
        "    print(e[1])\n",
        "    # print(e[0])\n",
        "    prediction=model.predict(e[0])\n",
        "    print(prediction)\n",
        "    break"
      ],
      "metadata": {
        "id": "jZXDSkQkiFRG"
      },
      "execution_count": null,
      "outputs": []
    },
    {
      "cell_type": "code",
      "source": [
        "\n",
        "print([1 if i>0.5 else 0 for i in prediction[0]])"
      ],
      "metadata": {
        "id": "yw44gO7fiF0E"
      },
      "execution_count": null,
      "outputs": []
    },
    {
      "cell_type": "code",
      "source": [
        "# # 定义输入和输出\n",
        "# inputs = {'input_image': model.input}\n",
        "# outputs = {'output_scores': model.output}\n",
        "\n",
        "# 导出模型\n",
        "tf.saved_model.save(model, pre_path+\"model4multiClassfier(exceptAge)\")"
      ],
      "metadata": {
        "colab": {
          "base_uri": "https://localhost:8080/"
        },
        "id": "TvYefEfnWjpM",
        "outputId": "14283a08-6c90-44e8-8b23-3ed61ab029b9"
      },
      "execution_count": 168,
      "outputs": [
        {
          "output_type": "stream",
          "name": "stderr",
          "text": [
            "WARNING:absl:Found untraced functions such as _update_step_xla while saving (showing 1 of 1). These functions will not be directly callable after loading.\n"
          ]
        }
      ]
    },
    {
      "cell_type": "code",
      "source": [
        "model_load=tf.saved_model.load(pre_path+\"model4multiClassfier\")"
      ],
      "metadata": {
        "id": "TnDdUPJTWEIN"
      },
      "execution_count": null,
      "outputs": []
    },
    {
      "cell_type": "code",
      "source": [
        "print(model_load.signatures.keys())"
      ],
      "metadata": {
        "id": "27bpgWuGXeF9"
      },
      "execution_count": null,
      "outputs": []
    },
    {
      "cell_type": "code",
      "source": [
        "# model.predict(ds_valid_)"
      ],
      "metadata": {
        "id": "N-5TA-yaUGnI"
      },
      "execution_count": null,
      "outputs": []
    },
    {
      "cell_type": "code",
      "source": [
        "for e in ds_valid:\n",
        "  print(e[1])\n",
        "  # print(e[0])\n",
        "  prediction=model_load.signatures['serving_default'](e[0])\n",
        "  print(prediction)\n",
        "  # print([1 if i>0.5 else 0 for i in l ])\n",
        "  break"
      ],
      "metadata": {
        "id": "NXhVoW6wUR3e"
      },
      "execution_count": null,
      "outputs": []
    },
    {
      "cell_type": "code",
      "source": [
        "print(prediction['dense_9'].numpy())"
      ],
      "metadata": {
        "id": "S8jWYoaEYZK6"
      },
      "execution_count": null,
      "outputs": []
    },
    {
      "cell_type": "code",
      "source": [
        "print([1 if i>0.5 else 0 for i in prediction['dense_9'].numpy()[0]])"
      ],
      "metadata": {
        "id": "PuelUgJqYNOp"
      },
      "execution_count": null,
      "outputs": []
    }
  ]
}