{
 "cells": [
  {
   "cell_type": "code",
   "execution_count": 3,
   "id": "c1c2c633-2626-4122-bbfc-a7a2aaaa7492",
   "metadata": {
    "tags": []
   },
   "outputs": [],
   "source": [
    "import numpy as np\n",
    "import matplotlib.pyplot as plt \n",
    "import cv2\n",
    "from PIL import Image\n",
    "import os\n",
    "\n",
    "y8path = 'C:\\\\Users\\\\86139\\\\face\\\\rawdata'\n",
    "\n",
    "\"\"\"\n",
    "np.fromfile(frame, dtype = float, count=-1, sep=’’)： \n",
    "frame： 文件、字符串 ； dtype： 读取的数据以此类型存储； count：读入元素个数， -1表示读入整个文件； \n",
    "sep: 数据分割字符串，如果是空串，写入文件为二进制\n",
    "\"\"\"\n",
    "for i, p in enumerate(os.listdir(y8path)): #遍历文件夹下的所有文件\n",
    "    path = os.path.join(y8path, p) #拼接文件读取地址\n",
    "    x = np.fromfile(path, dtype=np.uint8, count=-1) #将二进制文件流转为一维矩阵\n",
    "    #print(x.shape)#输出矩阵的大小\n",
    "    y = x.reshape(128, 128) #根据x的shape, 定义图片的长宽，480*1.5*640 = x.shape\n",
    "    cv2.imwrite(\"./image/%s.jpg\" % p, x) #保存图片\n",
    "\n",
    "#cv2.imshow(\"1\", x)\n",
    "\n",
    "# cv2.waitKey()\n",
    "\n"
   ]
  },
  {
   "cell_type": "code",
   "execution_count": null,
   "id": "1e8b22ad-3b56-4990-9170-ff665fca550b",
   "metadata": {},
   "outputs": [],
   "source": []
  }
 ],
 "metadata": {
  "kernelspec": {
   "display_name": "Python 3 (ipykernel)",
   "language": "python",
   "name": "python3"
  },
  "language_info": {
   "codemirror_mode": {
    "name": "ipython",
    "version": 3
   },
   "file_extension": ".py",
   "mimetype": "text/x-python",
   "name": "python",
   "nbconvert_exporter": "python",
   "pygments_lexer": "ipython3",
   "version": "3.11.3"
  }
 },
 "nbformat": 4,
 "nbformat_minor": 5
}
