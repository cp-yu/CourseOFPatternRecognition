{
 "cells": [
  {
   "cell_type": "code",
   "execution_count": 1,
   "id": "df4594d2-d72e-4017-8cce-e4eba0a4b10d",
   "metadata": {
    "tags": []
   },
   "outputs": [],
   "source": [
    "import os\n",
    "import numpy as np\n",
    "import cv2\n",
    "import random\n",
    "from sklearn.decomposition import PCA\n",
    "from sklearn.preprocessing import StandardScaler\n",
    "from sklearn.model_selection import train_test_split\n",
    "from sklearn.neighbors import KNeighborsClassifier\n",
    "from sklearn.model_selection import GridSearchCV\n",
    "from sklearn.metrics import classification_report\n",
    "from sklearn.model_selection  import cross_val_score\n",
    "import matplotlib.pyplot as plt"
   ]
  },
  {
   "cell_type": "markdown",
   "id": "6c1c57ac-c184-45be-b7d5-cb838db6126b",
   "metadata": {},
   "source": [
    "定义图片数据的路径和标签的路径"
   ]
  },
  {
   "cell_type": "code",
   "execution_count": 2,
   "id": "d5bb4774-77f8-456e-90af-19e845142795",
   "metadata": {},
   "outputs": [],
   "source": [
    "data_dir = 'C:\\\\Users\\\\86139\\\\face\\\\train'\n",
    "label_dir = 'C:\\\\Users\\\\86139\\\\face\\\\train.txt'\n",
    "data_list = os.listdir(data_dir)\n",
    "\n",
    "img_path = []  # 用于存放jpg文件的路径    3993\n",
    "labels = []  # 标签                  3993\n",
    "images = []"
   ]
  },
  {
   "cell_type": "markdown",
   "id": "f38398a0-885e-44e0-a6a8-844922102675",
   "metadata": {},
   "source": [
    "打开图像文件夹读取图片的路径，保存图像路径在img_path"
   ]
  },
  {
   "cell_type": "code",
   "execution_count": 3,
   "id": "b2e6456e-51f3-4584-b90d-0636f103eb29",
   "metadata": {
    "tags": []
   },
   "outputs": [],
   "source": [
    "with open(label_dir, 'r') as f:\n",
    "    for line in f.readlines():\n",
    "        line = line.strip('\\n')\n",
    "        line = line.rstrip()\n",
    "        words = line.split()  # words[0]代表xxxx.jpg; word[1]代表0或1\n",
    "\n",
    "        path = os.path.join(data_dir, words[0])\n",
    "        img_path.append(path)\n",
    "        if words[1] == '1':\n",
    "            labels.append(1)\n",
    "        if words[1] == '0':\n",
    "            labels.append(0)\n",
    "        # labels.append(words[1])      # 写入标签"
   ]
  },
  {
   "cell_type": "markdown",
   "id": "1c194f0e-1a0b-4016-b6a0-cebe1f98b89c",
   "metadata": {
    "tags": []
   },
   "source": [
    "将灰度图像进行处理读取成字节信息，并转换成为数组"
   ]
  },
  {
   "cell_type": "code",
   "execution_count": 4,
   "id": "d423ef20-dd89-4b04-b297-ef20521bba65",
   "metadata": {
    "tags": []
   },
   "outputs": [
    {
     "name": "stdout",
     "output_type": "stream",
     "text": [
      "(3993, 16384)\n"
     ]
    }
   ],
   "source": [
    "def read_img(img_path):\n",
    "    for i in range(len(img_path)):\n",
    "        if os.path.isfile(img_path[i]):\n",
    "            images.append(cv2.imread(img_path[i], -1).flatten())\n",
    "\n",
    "\n",
    "read_img(img_path)\n",
    "\n",
    "\n",
    "images = np.array(images)\n",
    "labels = np.array(labels)\n",
    "print(images.shape)"
   ]
  },
  {
   "cell_type": "markdown",
   "id": "89e9958d-efe4-4b8f-bf7f-ac0fdee8b22c",
   "metadata": {},
   "source": [
    "用PCA进行降维处理，提取特征值"
   ]
  },
  {
   "cell_type": "code",
   "execution_count": 5,
   "id": "94228247-ad76-4ec5-b989-23345e152cf7",
   "metadata": {
    "tags": []
   },
   "outputs": [
    {
     "name": "stdout",
     "output_type": "stream",
     "text": [
      "(3993, 150)\n",
      "(3993, 150)\n"
     ]
    }
   ],
   "source": [
    "pca = PCA(n_components=150)\n",
    "pca = pca.fit(images)\n",
    "images = pca.transform(images)\n",
    "print(images.shape)\n",
    "# 结果返回三列特征，也就是说3是最好的超参数取值\n",
    "\n",
    "scaler = StandardScaler()\n",
    "images = scaler.fit_transform(images)\n",
    "print(images.shape)"
   ]
  },
  {
   "cell_type": "markdown",
   "id": "934d91e3-1c0f-4c9d-8457-c65433d025a9",
   "metadata": {
    "tags": []
   },
   "source": [
    "进行训练集和测试集划分5：1"
   ]
  },
  {
   "cell_type": "code",
   "execution_count": 6,
   "id": "230e449d-425f-4174-9b7f-e762ad27f5d0",
   "metadata": {
    "tags": []
   },
   "outputs": [
    {
     "name": "stdout",
     "output_type": "stream",
     "text": [
      "(3194, 150)\n"
     ]
    }
   ],
   "source": [
    "imagestrain,imagestest,labelstrain,labelstest=train_test_split(images,labels,test_size=0.2,random_state=42)\n",
    "print(imagestrain.shape)"
   ]
  },
  {
   "cell_type": "markdown",
   "id": "4c1a6c5c-4e12-4d7a-9602-dd62f1b3d14c",
   "metadata": {},
   "source": [
    "寻找KNN算法的最佳K值，并反馈训练最高得分"
   ]
  },
  {
   "cell_type": "code",
   "execution_count": 7,
   "id": "265fafde-dd22-444c-a2c5-8a454d53d0a0",
   "metadata": {
    "tags": []
   },
   "outputs": [
    {
     "name": "stdout",
     "output_type": "stream",
     "text": [
      "1.0\n",
      "0.8315591734502191\n",
      "0.8591108328115216\n",
      "0.7370068879148404\n",
      "0.7617407639323732\n",
      "0.6803381340012523\n",
      "0.6947401377582968\n",
      "0.6421415153412648\n",
      "0.65184721352536\n",
      "0.6139636819035692\n",
      "最佳准确率为： 1.0\n",
      "最佳k值为： 1\n"
     ]
    }
   ],
   "source": [
    "best_r = 0  # 最高准确率\n",
    "best_k = 0  # 最佳k值\n",
    "\n",
    "for i in range(1, 11):\n",
    "#     print(i)\n",
    "    knn_clf = KNeighborsClassifier(n_neighbors=i)  # 创建空分类器，默认超参数k值为5\n",
    "    knn_clf.fit(imagestrain, labelstrain)  # 训练\n",
    "    re = knn_clf.score(imagestrain, labelstrain) # 查看准确率\n",
    "    print(re)\n",
    "    \n",
    "    if re > best_r:\n",
    "        best_r = re\n",
    "        best_k = i\n",
    "\n",
    "print('最佳准确率为：', best_r)\n",
    "print('最佳k值为：', best_k)\n",
    "\n"
   ]
  },
  {
   "cell_type": "markdown",
   "id": "807da64b-6005-4570-9fdf-9c17b5c9dd64",
   "metadata": {},
   "source": [
    "进行KNN训练模型得到测试得分"
   ]
  },
  {
   "cell_type": "code",
   "execution_count": 8,
   "id": "089328b3-b854-4e1f-ba1a-a72c424bc746",
   "metadata": {
    "tags": []
   },
   "outputs": [
    {
     "name": "stdout",
     "output_type": "stream",
     "text": [
      "0.7759699624530664\n",
      "1.0\n"
     ]
    }
   ],
   "source": [
    "knn_sex=KNeighborsClassifier(n_neighbors=1,p=1,metric = 'manhattan',weights='distance').fit(imagestrain,labelstrain)\n",
    "print(knn_sex.score(imagestest,labelstest))#测试得分\n",
    "print(knn_sex.score(imagestrain,labelstrain))#训练得分"
   ]
  },
  {
   "cell_type": "code",
   "execution_count": null,
   "id": "d959fdaa-bb86-4a23-8b51-8b68f7bebe87",
   "metadata": {},
   "outputs": [],
   "source": []
  }
 ],
 "metadata": {
  "kernelspec": {
   "display_name": "Python 3 (ipykernel)",
   "language": "python",
   "name": "python3"
  },
  "language_info": {
   "codemirror_mode": {
    "name": "ipython",
    "version": 3
   },
   "file_extension": ".py",
   "mimetype": "text/x-python",
   "name": "python",
   "nbconvert_exporter": "python",
   "pygments_lexer": "ipython3",
   "version": "3.11.3"
  }
 },
 "nbformat": 4,
 "nbformat_minor": 5
}
