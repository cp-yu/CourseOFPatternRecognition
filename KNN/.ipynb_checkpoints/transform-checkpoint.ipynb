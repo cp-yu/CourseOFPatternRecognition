{
 "cells": [
  {
   "cell_type": "code",
   "execution_count": 1,
   "id": "c1c2c633-2626-4122-bbfc-a7a2aaaa7492",
   "metadata": {
    "tags": []
   },
   "outputs": [
    {
     "ename": "FileNotFoundError",
     "evalue": "[WinError 3] 系统找不到指定的路径。: './awdata/'",
     "output_type": "error",
     "traceback": [
      "\u001b[1;31m---------------------------------------------------------------------------\u001b[0m",
      "\u001b[1;31mFileNotFoundError\u001b[0m                         Traceback (most recent call last)",
      "Cell \u001b[1;32mIn[1], line 14\u001b[0m\n\u001b[0;32m      7\u001b[0m y8path \u001b[38;5;241m=\u001b[39m \u001b[38;5;124m'\u001b[39m\u001b[38;5;124m./awdata/\u001b[39m\u001b[38;5;124m'\u001b[39m\n\u001b[0;32m      9\u001b[0m \u001b[38;5;124;03m\"\"\"\u001b[39;00m\n\u001b[0;32m     10\u001b[0m \u001b[38;5;124;03mnp.fromfile(frame, dtype = float, count=-1, sep=’’)： \u001b[39;00m\n\u001b[0;32m     11\u001b[0m \u001b[38;5;124;03mframe： 文件、字符串 ； dtype： 读取的数据以此类型存储； count：读入元素个数， -1表示读入整个文件； \u001b[39;00m\n\u001b[0;32m     12\u001b[0m \u001b[38;5;124;03msep: 数据分割字符串，如果是空串，写入文件为二进制\u001b[39;00m\n\u001b[0;32m     13\u001b[0m \u001b[38;5;124;03m\"\"\"\u001b[39;00m\n\u001b[1;32m---> 14\u001b[0m \u001b[38;5;28;01mfor\u001b[39;00m i, p \u001b[38;5;129;01min\u001b[39;00m \u001b[38;5;28menumerate\u001b[39m(os\u001b[38;5;241m.\u001b[39mlistdir(y8path)): \u001b[38;5;66;03m#遍历文件夹下的所有文件\u001b[39;00m\n\u001b[0;32m     15\u001b[0m     path \u001b[38;5;241m=\u001b[39m os\u001b[38;5;241m.\u001b[39mpath\u001b[38;5;241m.\u001b[39mjoin(y8path, p) \u001b[38;5;66;03m#拼接文件读取地址\u001b[39;00m\n\u001b[0;32m     16\u001b[0m     x \u001b[38;5;241m=\u001b[39m np\u001b[38;5;241m.\u001b[39mfromfile(path, dtype\u001b[38;5;241m=\u001b[39mnp\u001b[38;5;241m.\u001b[39muint8, count\u001b[38;5;241m=\u001b[39m\u001b[38;5;241m-\u001b[39m\u001b[38;5;241m1\u001b[39m) \u001b[38;5;66;03m#将二进制文件流转为一维矩阵\u001b[39;00m\n",
      "\u001b[1;31mFileNotFoundError\u001b[0m: [WinError 3] 系统找不到指定的路径。: './awdata/'"
     ]
    }
   ],
   "source": [
    "import numpy as np\n",
    "import matplotlib.pyplot as plt \n",
    "import cv2\n",
    "from PIL import Image\n",
    "import os\n",
    "\n",
    "y8path = 'C:\\\\Users\\\\86139\\\\face\\\\rawdata'\n",
    "\n",
    "\"\"\"\n",
    "np.fromfile(frame, dtype = float, count=-1, sep=’’)： \n",
    "frame： 文件、字符串 ； dtype： 读取的数据以此类型存储； count：读入元素个数， -1表示读入整个文件； \n",
    "sep: 数据分割字符串，如果是空串，写入文件为二进制\n",
    "\"\"\"\n",
    "for i, p in enumerate(os.listdir(y8path)): #遍历文件夹下的所有文件\n",
    "    path = os.path.join(y8path, p) #拼接文件读取地址\n",
    "    x = np.fromfile(path, dtype=np.uint8, count=-1) #将二进制文件流转为一维矩阵\n",
    "   # print(x.shape)#输出矩阵的大小\n",
    "    y = x.reshape(128, 128) #根据x的shape, 定义图片的长宽，480*1.5*640 = x.shape\n",
    "    cv2.imwrite(\"./image/%s.jpg\" % p, x) #保存图片\n",
    "\n",
    "cv2.imshow(\"1\", x)\n",
    "\n",
    "# cv2.waitKey()\n",
    "\n"
   ]
  },
  {
   "cell_type": "code",
   "execution_count": null,
   "id": "1e8b22ad-3b56-4990-9170-ff665fca550b",
   "metadata": {},
   "outputs": [],
   "source": []
  }
 ],
 "metadata": {
  "kernelspec": {
   "display_name": "Python 3 (ipykernel)",
   "language": "python",
   "name": "python3"
  },
  "language_info": {
   "codemirror_mode": {
    "name": "ipython",
    "version": 3
   },
   "file_extension": ".py",
   "mimetype": "text/x-python",
   "name": "python",
   "nbconvert_exporter": "python",
   "pygments_lexer": "ipython3",
   "version": "3.11.3"
  }
 },
 "nbformat": 4,
 "nbformat_minor": 5
}
